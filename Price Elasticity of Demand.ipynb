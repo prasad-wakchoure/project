{
 "cells": [
  {
   "cell_type": "markdown",
   "id": "5b5582cb",
   "metadata": {},
   "source": [
    "### Price Elasticity of Demand"
   ]
  },
  {
   "cell_type": "markdown",
   "id": "ef465fef",
   "metadata": {},
   "source": [
    "### Problem_Statement"
   ]
  },
  {
   "cell_type": "code",
   "execution_count": null,
   "id": "e5375126",
   "metadata": {},
   "outputs": [],
   "source": [
    "Our client, ABC Electronics is a company that produces and sells a variety of electronics goods, \n",
    "including speakers, laptops, and televisions. The company is facing a major challenge in managing \n",
    "their inventory. Despite their efforts to reduce costs and increase sales, they have noticed a decline\n",
    "in sales for a particular category of products**. They believe that the decline in sales is due to a \n",
    "change in consumer behaviour, specifically in the way that consumers are responding to changes in price. \n",
    "In order to address this issue, ABC Electronics has asked us to perform a data science project on the \n",
    "Price Elasticity of Demand for their products.This project will be developed with the stakeholder's \n",
    "needs in mind and potentially deliver significant value to sales, marketing, and regulatory managers,\n",
    "by providing data-driven insights into consumer behaviour and product demand.\n"
   ]
  },
  {
   "cell_type": "code",
   "execution_count": null,
   "id": "bf528caa",
   "metadata": {},
   "outputs": [],
   "source": []
  },
  {
   "cell_type": "code",
   "execution_count": null,
   "id": "d946bfca",
   "metadata": {},
   "outputs": [],
   "source": []
  },
  {
   "cell_type": "code",
   "execution_count": null,
   "id": "d08cf9fd",
   "metadata": {},
   "outputs": [],
   "source": []
  },
  {
   "cell_type": "code",
   "execution_count": null,
   "id": "ce41122b",
   "metadata": {},
   "outputs": [],
   "source": []
  },
  {
   "cell_type": "code",
   "execution_count": null,
   "id": "917f881b",
   "metadata": {},
   "outputs": [],
   "source": []
  },
  {
   "cell_type": "code",
   "execution_count": null,
   "id": "959aac78",
   "metadata": {},
   "outputs": [],
   "source": []
  },
  {
   "cell_type": "code",
   "execution_count": null,
   "id": "892e53b4",
   "metadata": {},
   "outputs": [],
   "source": []
  },
  {
   "cell_type": "code",
   "execution_count": null,
   "id": "8d7d0656",
   "metadata": {},
   "outputs": [],
   "source": []
  },
  {
   "cell_type": "code",
   "execution_count": null,
   "id": "9c126c1a",
   "metadata": {},
   "outputs": [],
   "source": []
  },
  {
   "cell_type": "code",
   "execution_count": null,
   "id": "479a02a1",
   "metadata": {},
   "outputs": [],
   "source": []
  },
  {
   "cell_type": "code",
   "execution_count": null,
   "id": "86ce4139",
   "metadata": {},
   "outputs": [],
   "source": []
  },
  {
   "cell_type": "code",
   "execution_count": null,
   "id": "fbfdc66c",
   "metadata": {},
   "outputs": [],
   "source": []
  },
  {
   "cell_type": "code",
   "execution_count": null,
   "id": "d8d5c489",
   "metadata": {},
   "outputs": [],
   "source": []
  },
  {
   "cell_type": "code",
   "execution_count": null,
   "id": "2ed22641",
   "metadata": {},
   "outputs": [],
   "source": []
  }
 ],
 "metadata": {
  "kernelspec": {
   "display_name": "Python 3 (ipykernel)",
   "language": "python",
   "name": "python3"
  },
  "language_info": {
   "codemirror_mode": {
    "name": "ipython",
    "version": 3
   },
   "file_extension": ".py",
   "mimetype": "text/x-python",
   "name": "python",
   "nbconvert_exporter": "python",
   "pygments_lexer": "ipython3",
   "version": "3.11.0"
  }
 },
 "nbformat": 4,
 "nbformat_minor": 5
}
