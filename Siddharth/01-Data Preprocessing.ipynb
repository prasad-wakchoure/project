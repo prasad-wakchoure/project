{
 "cells": [
  {
   "cell_type": "markdown",
   "id": "9b078e2a-0afd-4732-9be5-a5bd5df49e78",
   "metadata": {},
   "source": [
    "<h1 style=\"text-align:center\"><strong>Price Elasticity of Demand</strong></h1>"
   ]
  },
  {
   "cell_type": "markdown",
   "id": "de0d3675-92d2-40fc-9c0a-96d7e4302723",
   "metadata": {
    "tags": []
   },
   "source": [
    "<h2><strong>Problem Statement</strong></h2>\n",
    "\n",
    "\n",
    "<pre><code>ABC Electronics is a company that produces and sells a variety of electronics goods, including speakers, laptops, and televisions. The company is facing a major challenge in managing their inventory. Despite their efforts to reduce costs and increase sales, they have noticed a decline in sales for a particular category of products. They believe that the decline in sales is due to a change in consumer behaviour, specifically in the way that consumers are responding to changes in price. In order to address this issue, ABC Electronics has asked us to perform a data science project on the Price Elasticity of Demand for their products. This project will be developed with stakeholder\"s needs in mind and potentially deliver significant value to sales, marketing, and regulatory managers, by providing data-driven insights into consumer behaviour and product demand.</code></pre>\n"
   ]
  },
  {
   "cell_type": "code",
   "execution_count": 2,
   "id": "720e20bf-4efb-48ee-aba2-bd46021ea7a4",
   "metadata": {},
   "outputs": [],
   "source": [
    "# IMPORTING PACKAGES\n",
    "# ------------------------------------------------------\n",
    "import pandas as pd\n",
    "import numpy as np\n",
    "import os\n",
    "import re\n",
    "import warnings\n",
    "\n",
    "# VISUALIZATION\n",
    "import seaborn as sns\n",
    "%matplotlib inline\n",
    "import matplotlib.pyplot as plt\n",
    "%matplotlib inline\n",
    "pd.options.display.max_columns = 0\n",
    "pd.options.display.max_colwidth =10\n",
    "\n",
    "# CONFIGURATIONS\n",
    "# ------------------------------------------------------\n",
    "warnings.filterwarnings(\"ignore\")"
   ]
  },
  {
   "cell_type": "markdown",
   "id": "71613e19-56af-40f2-9fb1-3fb6a29575b0",
   "metadata": {},
   "source": [
    "<h2><strong>Data Gathering</strong></h2>\n",
    "\n",
    "\n",
    "<pre><code>ABC Electronics has provided us with sales data for the past three years, including information on product categories, prices, and quantities sold.</code></pre>"
   ]
  },
  {
   "cell_type": "code",
   "execution_count": 3,
   "id": "cb50e8e6-e8ab-410e-b412-ece71a94e26e",
   "metadata": {},
   "outputs": [],
   "source": [
    "#os.chdir(\"C:\\\\Users\\\\SkyLake\\\\Documents\\\\Python2.0\\\\01-ML-PEoD\\\\data\")\n",
    "os.chdir(\"data/\")\n",
    "raw_data = \"G1-PriceElasticityOfDemand-FinalDataSetCombined.csv\""
   ]
  },
  {
   "cell_type": "code",
   "execution_count": 4,
   "id": "8a4a9dca-89ab-486b-b66e-4cdc87efa16a",
   "metadata": {},
   "outputs": [
    {
     "data": {
      "text/plain": [
       "'C:\\\\Users\\\\SkyLake\\\\Documents\\\\Python2.0\\\\01-ML-PEoD\\\\data'"
      ]
     },
     "execution_count": 4,
     "metadata": {},
     "output_type": "execute_result"
    }
   ],
   "source": [
    "pwd"
   ]
  },
  {
   "cell_type": "code",
   "execution_count": 5,
   "id": "1086cbee-3877-431a-b442-5e9a92b10008",
   "metadata": {},
   "outputs": [],
   "source": [
    "df = pd.read_csv(raw_data)"
   ]
  },
  {
   "cell_type": "code",
   "execution_count": 6,
   "id": "309d1410-6169-4066-895d-9dba254fedd9",
   "metadata": {},
   "outputs": [
    {
     "data": {
      "text/html": [
       "<div>\n",
       "<style scoped>\n",
       "    .dataframe tbody tr th:only-of-type {\n",
       "        vertical-align: middle;\n",
       "    }\n",
       "\n",
       "    .dataframe tbody tr th {\n",
       "        vertical-align: top;\n",
       "    }\n",
       "\n",
       "    .dataframe thead th {\n",
       "        text-align: right;\n",
       "    }\n",
       "</style>\n",
       "<table border=\"1\" class=\"dataframe\">\n",
       "  <thead>\n",
       "    <tr style=\"text-align: right;\">\n",
       "      <th></th>\n",
       "      <th>id</th>\n",
       "      <th>prices.amountMax</th>\n",
       "      <th>prices.amountMin</th>\n",
       "      <th>prices.availability</th>\n",
       "      <th>prices.condition</th>\n",
       "      <th>prices.currency</th>\n",
       "      <th>prices.dateSeen</th>\n",
       "      <th>prices.isSale</th>\n",
       "      <th>prices.merchant</th>\n",
       "      <th>prices.shipping</th>\n",
       "      <th>prices.sourceURLs</th>\n",
       "      <th>Cluster</th>\n",
       "      <th>Category_name</th>\n",
       "      <th>asins</th>\n",
       "      <th>brand</th>\n",
       "      <th>categories</th>\n",
       "      <th>dateAdded</th>\n",
       "      <th>dateUpdated</th>\n",
       "      <th>ean</th>\n",
       "      <th>imageURLs</th>\n",
       "      <th>keys</th>\n",
       "      <th>manufacturer</th>\n",
       "      <th>manufacturerNumber</th>\n",
       "      <th>name</th>\n",
       "      <th>primaryCategories</th>\n",
       "      <th>sourceURLs</th>\n",
       "      <th>upc</th>\n",
       "      <th>weight</th>\n",
       "      <th>shipping</th>\n",
       "      <th>Unnamed: 29</th>\n",
       "      <th>Unnamed: 30</th>\n",
       "      <th>Unnamed: 31</th>\n",
       "      <th>Unnamed: 32</th>\n",
       "    </tr>\n",
       "  </thead>\n",
       "  <tbody>\n",
       "    <tr>\n",
       "      <th>0</th>\n",
       "      <td>AVphzg...</td>\n",
       "      <td>104.99</td>\n",
       "      <td>104.99</td>\n",
       "      <td>Yes</td>\n",
       "      <td>New</td>\n",
       "      <td>USD</td>\n",
       "      <td>2017-0...</td>\n",
       "      <td>False</td>\n",
       "      <td>Bestbu...</td>\n",
       "      <td>NaN</td>\n",
       "      <td>http:/...</td>\n",
       "      <td>11</td>\n",
       "      <td>mount,...</td>\n",
       "      <td>B00C78...</td>\n",
       "      <td>Sanus</td>\n",
       "      <td>Audio ...</td>\n",
       "      <td>2015-0...</td>\n",
       "      <td>2018-0...</td>\n",
       "      <td>NaN</td>\n",
       "      <td>https:...</td>\n",
       "      <td>sanusv...</td>\n",
       "      <td>NaN</td>\n",
       "      <td>VLF410B1</td>\n",
       "      <td>Sanus ...</td>\n",
       "      <td>Electr...</td>\n",
       "      <td>https:...</td>\n",
       "      <td>7.94E+11</td>\n",
       "      <td>32.8 p...</td>\n",
       "      <td>NaN</td>\n",
       "      <td>NaN</td>\n",
       "      <td>NaN</td>\n",
       "      <td>NaN</td>\n",
       "      <td>NaN</td>\n",
       "    </tr>\n",
       "  </tbody>\n",
       "</table>\n",
       "</div>"
      ],
      "text/plain": [
       "          id  prices.amountMax  prices.amountMin prices.availability  ... Unnamed: 29 Unnamed: 30 Unnamed: 31  Unnamed: 32\n",
       "0  AVphzg...     104.99            104.99               Yes           ...        NaN         NaN         NaN         NaN  \n",
       "\n",
       "[1 rows x 33 columns]"
      ]
     },
     "execution_count": 6,
     "metadata": {},
     "output_type": "execute_result"
    }
   ],
   "source": [
    "df.head(1)"
   ]
  },
  {
   "cell_type": "code",
   "execution_count": 7,
   "id": "003f347a-3ed8-4f50-bb13-6d4ad375be3f",
   "metadata": {},
   "outputs": [
    {
     "name": "stdout",
     "output_type": "stream",
     "text": [
      "Total number of rows : = 14592\n",
      "Total number of columns : = 33\n"
     ]
    }
   ],
   "source": [
    "# some general information \n",
    "print(f\"Total number of rows : = {df.shape[0]}\")\n",
    "print(f\"Total number of columns : = {df.shape[1]}\")"
   ]
  },
  {
   "cell_type": "code",
   "execution_count": 8,
   "id": "f67c624b-a07b-4e26-9cad-db61fa4d11cc",
   "metadata": {},
   "outputs": [
    {
     "name": "stdout",
     "output_type": "stream",
     "text": [
      "<class 'pandas.core.frame.DataFrame'>\n",
      "RangeIndex: 14592 entries, 0 to 14591\n",
      "Data columns (total 33 columns):\n",
      " #   Column               Non-Null Count  Dtype  \n",
      "---  ------               --------------  -----  \n",
      " 0   id                   14592 non-null  object \n",
      " 1   prices.amountMax     14592 non-null  float64\n",
      " 2   prices.amountMin     14592 non-null  float64\n",
      " 3   prices.availability  12667 non-null  object \n",
      " 4   prices.condition     13189 non-null  object \n",
      " 5   prices.currency      14592 non-null  object \n",
      " 6   prices.dateSeen      14592 non-null  object \n",
      " 7   prices.isSale        14592 non-null  bool   \n",
      " 8   prices.merchant      13820 non-null  object \n",
      " 9   prices.shipping      8793 non-null   object \n",
      " 10  prices.sourceURLs    14592 non-null  object \n",
      " 11  Cluster              14592 non-null  int64  \n",
      " 12  Category_name        14592 non-null  object \n",
      " 13  asins                14592 non-null  object \n",
      " 14  brand                14592 non-null  object \n",
      " 15  categories           14592 non-null  object \n",
      " 16  dateAdded            14592 non-null  object \n",
      " 17  dateUpdated          14592 non-null  object \n",
      " 18  ean                  4208 non-null   object \n",
      " 19  imageURLs            14592 non-null  object \n",
      " 20  keys                 14592 non-null  object \n",
      " 21  manufacturer         7618 non-null   object \n",
      " 22  manufacturerNumber   14592 non-null  object \n",
      " 23  name                 14592 non-null  object \n",
      " 24  primaryCategories    14592 non-null  object \n",
      " 25  sourceURLs           14592 non-null  object \n",
      " 26  upc                  14592 non-null  object \n",
      " 27  weight               14592 non-null  object \n",
      " 28  shipping             8793 non-null   object \n",
      " 29  Unnamed: 29          0 non-null      float64\n",
      " 30  Unnamed: 30          0 non-null      float64\n",
      " 31  Unnamed: 31          0 non-null      float64\n",
      " 32  Unnamed: 32          540 non-null    object \n",
      "dtypes: bool(1), float64(5), int64(1), object(26)\n",
      "memory usage: 3.6+ MB\n"
     ]
    }
   ],
   "source": [
    "df.info()"
   ]
  },
  {
   "cell_type": "markdown",
   "id": "9829a8b3-b617-4986-81a1-dafbaf5ce62c",
   "metadata": {},
   "source": [
    "<h2><strong>Data Cleaning/Preprocessing</strong></h2>"
   ]
  },
  {
   "cell_type": "code",
   "execution_count": 9,
   "id": "5890ee28-0a96-4a6c-9acb-dc13390026e4",
   "metadata": {},
   "outputs": [],
   "source": [
    "#Selecting only the columns we require \n",
    "df = df.drop(df.columns[-4:], axis=1)\n",
    "#Removing unnecessary columns\n",
    "df = df.drop([\"primaryCategories\",\"imageURLs\",\"sourceURLs\",\"ean\",\"asins\",\"upc\",\"keys\"],axis=1)"
   ]
  },
  {
   "cell_type": "code",
   "execution_count": 10,
   "id": "1dc290a5-b3a2-4ac4-9c0f-a53628224a9e",
   "metadata": {
    "tags": []
   },
   "outputs": [],
   "source": [
    "#Counting the total imp of product\n",
    "def imp_date(x1):\n",
    "    x1_list =x1.strip(\"'\").split(\",\")\n",
    "    return x1_list\n",
    "\n",
    "def imp_counter(x1):\n",
    "    x1_list =x1.strip(\"'\").split(\",\")\n",
    "    x1_count = len(x1_list)\n",
    "    return x1_count\n",
    "\n",
    "\n",
    "df[\"Date\"]= df[\"prices.dateSeen\"].apply(imp_date)\n",
    "df[\"Imp_count\"]= df[\"prices.dateSeen\"].apply(imp_counter)\n",
    "\n",
    "df =df.explode(\"Date\")"
   ]
  },
  {
   "cell_type": "code",
   "execution_count": 11,
   "id": "dbf96bd2-e070-43f0-9caf-e92c4bd38b79",
   "metadata": {
    "tags": []
   },
   "outputs": [
    {
     "data": {
      "text/plain": [
       "array(['Yes', 'In Stock', 'TRUE', 'undefined', 'yes', 'Out Of Stock',\n",
       "       'Special Order', 'No', 'More on the Way', 'sold', 'FALSE',\n",
       "       'Retired', '32 available', '7 available', nan, 'Limited Stock',\n",
       "       'Discontinued', 'More Coming Soon'], dtype=object)"
      ]
     },
     "execution_count": 11,
     "metadata": {},
     "output_type": "execute_result"
    }
   ],
   "source": [
    "df[\"prices.availability\"].unique()"
   ]
  },
  {
   "cell_type": "code",
   "execution_count": 12,
   "id": "d2ac1403-1d69-4b83-b56c-88356c4d3ffc",
   "metadata": {},
   "outputs": [],
   "source": [
    "# Price availability is categorized\n",
    "df[\"prices.availability\"] = np.where(df[\"prices.availability\"].str.contains(\"Yes|TRUE|In Stock|yes|available\",case=False),\"Yes\",\n",
    "                            np.where(df[\"prices.availability\"].str.contains(\"Discontinued|Retired|FALSE|No|sold\",case=False),\"No\",\n",
    "                            np.where(df[\"prices.availability\"].str.contains(\"Yes|In Stock\",case=False),\"Special\",np.NaN)))"
   ]
  },
  {
   "cell_type": "code",
   "execution_count": 13,
   "id": "5bd78f0d-ad26-40a8-a55b-cb11f6229f3e",
   "metadata": {},
   "outputs": [],
   "source": [
    "#Product condition categorization\n",
    "df[\"prices.condition\"] = np.where(df[\"prices.condition\"].str.contains(\"new\",case=False),\"New\",\n",
    "                         np.where(df[\"prices.condition\"].str.contains(\"refurbished\",case=False),\"Refurbished\",\n",
    "                         np.where(df[\"prices.condition\"].str.contains(\"pre-owned|used\",case=False),\"Used\",np.NaN)))"
   ]
  },
  {
   "cell_type": "code",
   "execution_count": 14,
   "id": "3c97650a-6577-4847-bcb5-511821688436",
   "metadata": {},
   "outputs": [],
   "source": [
    "#Seller Names\n",
    "SURL = df[\"prices.sourceURLs\"]\n",
    "df['Merchant'] = pd.np.where(SURL.str.contains('bhphotovideo', case=False), \"bhphotovideo.com\",\n",
    "                 pd.np.where(SURL.str.contains('eBay|e bay', case=False), \"ebay.com\",\n",
    "                 pd.np.where(SURL.str.contains('Amazon',case=False), \"Amazon.com\", \n",
    "                 pd.np.where(SURL.str.contains('Bestbuy',case=False), \"Bestbuy.com\",\n",
    "                 pd.np.where(SURL.str.contains('Homedepot',case=False), \"homedepot.com\",\n",
    "                 pd.np.where(SURL.str.contains('newegg',case=False), \"newegg.com\",\n",
    "                 pd.np.where(SURL.str.contains('kmart',case=False), \"kmart.com\",\n",
    "                 pd.np.where(SURL.str.contains('frys',case=False), \"frys.com\",\n",
    "                 pd.np.where(SURL.str.contains('cdw',case=False), \"cdw.com\",\n",
    "                 pd.np.where(SURL.str.contains('target',case=False), \"target.com\",\n",
    "                 pd.np.where(SURL.str.contains('overstock',case=False), \"overstock.com\",\n",
    "                 pd.np.where(SURL.str.contains('barcodable',case=False), \"barcodable.com\",\n",
    "                 pd.np.where(SURL.str.contains('kohls',case=False), \"kohls.com\",\n",
    "                 pd.np.where(SURL.str.contains('sears',case=False), \"sears.com\",\n",
    "                 pd.np.where(SURL.str.contains('Wal-mart|Walmart',case=False), \"Walmart.com\",\"Other\")))))))))))))))"
   ]
  },
  {
   "cell_type": "code",
   "execution_count": 15,
   "id": "0b981fe6-0e77-4913-a898-f5d70824f117",
   "metadata": {},
   "outputs": [
    {
     "data": {
      "text/plain": [
       "Bestbuy.com         16709\n",
       "bhphotovideo.com    10260\n",
       "Walmart.com          6179\n",
       "ebay.com             4406\n",
       "Amazon.com           2381\n",
       "target.com           2220\n",
       "Other                 285\n",
       "kohls.com             248\n",
       "barcodable.com        138\n",
       "frys.com              126\n",
       "kmart.com             115\n",
       "cdw.com                79\n",
       "newegg.com             46\n",
       "homedepot.com          27\n",
       "sears.com              10\n",
       "Name: Merchant, dtype: int64"
      ]
     },
     "execution_count": 15,
     "metadata": {},
     "output_type": "execute_result"
    }
   ],
   "source": [
    "df[\"Merchant\"].value_counts().head(15)"
   ]
  },
  {
   "cell_type": "code",
   "execution_count": 16,
   "id": "f38cf72f-553d-43c8-b11f-97de1dae12cc",
   "metadata": {},
   "outputs": [],
   "source": [
    "#Renaming Columns for ease of understanding\n",
    "df = df.rename(columns={\"prices.amountMax\":\"Actual_price\",\n",
    "                        \"prices.amountMin\":\"Discount_price\",\n",
    "                        \"prices.availability\":\"Product_availability\",\n",
    "                        \"prices.condition\":\"Condition\",\n",
    "                        \"prices.isSale\":\"isSale\",\n",
    "                        \"categories\":\"Description\",\n",
    "                        \"brand\":\"Brand\",\n",
    "                        \"name\":\"Name\"})"
   ]
  },
  {
   "cell_type": "code",
   "execution_count": 17,
   "id": "fee5c40f-c9bd-431f-9827-be458225a45d",
   "metadata": {},
   "outputs": [],
   "source": [
    "#Product is on sale or not checker\n",
    "df['isSale'] = np.where(df['Actual_price']> df['Discount_price'],\"Yes\", \"No\")"
   ]
  },
  {
   "cell_type": "code",
   "execution_count": 18,
   "id": "6689e04e-5eeb-4820-ade7-5df17e522e84",
   "metadata": {},
   "outputs": [],
   "source": [
    "###################### DATA FILTERING #########################\n",
    "#setting some filters for major values\n",
    "dfx = df[ (df[\"prices.currency\"])==\"USD\"]\n",
    "dfx = dfx[ (dfx[\"Condition\"])==\"New\"]"
   ]
  },
  {
   "cell_type": "code",
   "execution_count": 19,
   "id": "04281c21-b613-4b7c-a8db-91c01d10ee71",
   "metadata": {},
   "outputs": [
    {
     "data": {
      "text/plain": [
       "array(['New'], dtype=object)"
      ]
     },
     "execution_count": 19,
     "metadata": {},
     "output_type": "execute_result"
    }
   ],
   "source": [
    "dfx[\"Condition\"].unique()"
   ]
  },
  {
   "cell_type": "code",
   "execution_count": 20,
   "id": "ddfb794b-7ffe-4dfc-82d7-77f5ca54879a",
   "metadata": {},
   "outputs": [],
   "source": [
    "#Percentage Discount\n",
    "dfx[\"Discount_per\"] = round((((dfx[\"Actual_price\"]-dfx[\"Discount_price\"])/dfx[\"Actual_price\"])*100),2)"
   ]
  },
  {
   "cell_type": "code",
   "execution_count": 21,
   "id": "bcf68651-6daa-487b-951c-46d50ad31a90",
   "metadata": {},
   "outputs": [],
   "source": [
    "#Selecting only the columns we require \n",
    "dfx = dfx[[\"id\",\"Name\",\"Brand\",\"Description\",\"Category_name\",\"Merchant\",\"Actual_price\",\"Discount_price\",\"isSale\",\"Discount_per\",\"Imp_count\",\"Date\"]]"
   ]
  },
  {
   "cell_type": "code",
   "execution_count": 22,
   "id": "6de2af90-be0d-4094-8a51-da66e6afc817",
   "metadata": {},
   "outputs": [],
   "source": [
    "#Spliting date to > day, month, week, month name etc.\n",
    "dfx['Date']= pd.to_datetime(dfx['Date'])\n",
    "dfx['Day'] = dfx['Date'].dt.day\n",
    "dfx['Month'] = dfx['Date'].dt.month\n",
    "dfx['Year'] = dfx['Date'].dt.year\n",
    "dfx['Week'] = dfx['Date'].dt.week\n",
    "dfx['Month_Name'] = dfx['Date'].dt.strftime('%B')\n",
    "dfx['Day_Name'] = dfx['Date'].dt.strftime('%A')\n",
    "dfx['date'] = pd.to_datetime(dfx['Date'].dt.date)\n",
    "dfx = dfx.drop(columns=[\"Date\"])\n",
    "dfx = dfx.rename(columns={\"date\":\"Date\"})"
   ]
  },
  {
   "cell_type": "code",
   "execution_count": 23,
   "id": "fc2eaa16-43dd-4c54-9504-372cc21c8912",
   "metadata": {},
   "outputs": [],
   "source": [
    "dfx = dfx.reset_index(drop=True)"
   ]
  },
  {
   "cell_type": "code",
   "execution_count": 24,
   "id": "f55c8848-1bb1-4e6d-95e9-eed06af11355",
   "metadata": {},
   "outputs": [
    {
     "data": {
      "text/html": [
       "<div>\n",
       "<style scoped>\n",
       "    .dataframe tbody tr th:only-of-type {\n",
       "        vertical-align: middle;\n",
       "    }\n",
       "\n",
       "    .dataframe tbody tr th {\n",
       "        vertical-align: top;\n",
       "    }\n",
       "\n",
       "    .dataframe thead th {\n",
       "        text-align: right;\n",
       "    }\n",
       "</style>\n",
       "<table border=\"1\" class=\"dataframe\">\n",
       "  <thead>\n",
       "    <tr style=\"text-align: right;\">\n",
       "      <th></th>\n",
       "      <th>id</th>\n",
       "      <th>Name</th>\n",
       "      <th>Brand</th>\n",
       "      <th>Description</th>\n",
       "      <th>Category_name</th>\n",
       "      <th>Merchant</th>\n",
       "      <th>Actual_price</th>\n",
       "      <th>Discount_price</th>\n",
       "      <th>isSale</th>\n",
       "      <th>Discount_per</th>\n",
       "      <th>Imp_count</th>\n",
       "      <th>Day</th>\n",
       "      <th>Month</th>\n",
       "      <th>Year</th>\n",
       "      <th>Week</th>\n",
       "      <th>Month_Name</th>\n",
       "      <th>Day_Name</th>\n",
       "      <th>Date</th>\n",
       "    </tr>\n",
       "  </thead>\n",
       "  <tbody>\n",
       "    <tr>\n",
       "      <th>0</th>\n",
       "      <td>AVphzg...</td>\n",
       "      <td>Sanus ...</td>\n",
       "      <td>Sanus</td>\n",
       "      <td>Audio ...</td>\n",
       "      <td>mount,...</td>\n",
       "      <td>Bestbu...</td>\n",
       "      <td>104.99</td>\n",
       "      <td>104.99</td>\n",
       "      <td>No</td>\n",
       "      <td>0.00</td>\n",
       "      <td>4</td>\n",
       "      <td>30</td>\n",
       "      <td>3</td>\n",
       "      <td>2017</td>\n",
       "      <td>13</td>\n",
       "      <td>March</td>\n",
       "      <td>Thursday</td>\n",
       "      <td>2017-03-30</td>\n",
       "    </tr>\n",
       "    <tr>\n",
       "      <th>1</th>\n",
       "      <td>AVphzg...</td>\n",
       "      <td>Sanus ...</td>\n",
       "      <td>Sanus</td>\n",
       "      <td>Audio ...</td>\n",
       "      <td>mount,...</td>\n",
       "      <td>Bestbu...</td>\n",
       "      <td>104.99</td>\n",
       "      <td>104.99</td>\n",
       "      <td>No</td>\n",
       "      <td>0.00</td>\n",
       "      <td>4</td>\n",
       "      <td>10</td>\n",
       "      <td>3</td>\n",
       "      <td>2017</td>\n",
       "      <td>10</td>\n",
       "      <td>March</td>\n",
       "      <td>Friday</td>\n",
       "      <td>2017-03-10</td>\n",
       "    </tr>\n",
       "    <tr>\n",
       "      <th>2</th>\n",
       "      <td>AVphzg...</td>\n",
       "      <td>Sanus ...</td>\n",
       "      <td>Sanus</td>\n",
       "      <td>Audio ...</td>\n",
       "      <td>mount,...</td>\n",
       "      <td>Bestbu...</td>\n",
       "      <td>104.99</td>\n",
       "      <td>104.99</td>\n",
       "      <td>No</td>\n",
       "      <td>0.00</td>\n",
       "      <td>4</td>\n",
       "      <td>4</td>\n",
       "      <td>3</td>\n",
       "      <td>2017</td>\n",
       "      <td>9</td>\n",
       "      <td>March</td>\n",
       "      <td>Saturday</td>\n",
       "      <td>2017-03-04</td>\n",
       "    </tr>\n",
       "    <tr>\n",
       "      <th>3</th>\n",
       "      <td>AVphzg...</td>\n",
       "      <td>Sanus ...</td>\n",
       "      <td>Sanus</td>\n",
       "      <td>Audio ...</td>\n",
       "      <td>mount,...</td>\n",
       "      <td>Bestbu...</td>\n",
       "      <td>104.99</td>\n",
       "      <td>104.99</td>\n",
       "      <td>No</td>\n",
       "      <td>0.00</td>\n",
       "      <td>4</td>\n",
       "      <td>3</td>\n",
       "      <td>3</td>\n",
       "      <td>2017</td>\n",
       "      <td>9</td>\n",
       "      <td>March</td>\n",
       "      <td>Friday</td>\n",
       "      <td>2017-03-03</td>\n",
       "    </tr>\n",
       "    <tr>\n",
       "      <th>4</th>\n",
       "      <td>AVpgMu...</td>\n",
       "      <td>Boyton...</td>\n",
       "      <td>Boytone</td>\n",
       "      <td>Stereo...</td>\n",
       "      <td>speake...</td>\n",
       "      <td>Walmar...</td>\n",
       "      <td>69.00</td>\n",
       "      <td>64.99</td>\n",
       "      <td>Yes</td>\n",
       "      <td>5.81</td>\n",
       "      <td>1</td>\n",
       "      <td>14</td>\n",
       "      <td>12</td>\n",
       "      <td>2017</td>\n",
       "      <td>50</td>\n",
       "      <td>December</td>\n",
       "      <td>Thursday</td>\n",
       "      <td>2017-12-14</td>\n",
       "    </tr>\n",
       "    <tr>\n",
       "      <th>...</th>\n",
       "      <td>...</td>\n",
       "      <td>...</td>\n",
       "      <td>...</td>\n",
       "      <td>...</td>\n",
       "      <td>...</td>\n",
       "      <td>...</td>\n",
       "      <td>...</td>\n",
       "      <td>...</td>\n",
       "      <td>...</td>\n",
       "      <td>...</td>\n",
       "      <td>...</td>\n",
       "      <td>...</td>\n",
       "      <td>...</td>\n",
       "      <td>...</td>\n",
       "      <td>...</td>\n",
       "      <td>...</td>\n",
       "      <td>...</td>\n",
       "      <td>...</td>\n",
       "    </tr>\n",
       "    <tr>\n",
       "      <th>41864</th>\n",
       "      <td>AVpgib...</td>\n",
       "      <td>naxa -...</td>\n",
       "      <td>naxa</td>\n",
       "      <td>TVs &amp; ...</td>\n",
       "      <td>sound,...</td>\n",
       "      <td>Bestbu...</td>\n",
       "      <td>58.99</td>\n",
       "      <td>58.99</td>\n",
       "      <td>No</td>\n",
       "      <td>0.00</td>\n",
       "      <td>6</td>\n",
       "      <td>1</td>\n",
       "      <td>6</td>\n",
       "      <td>2017</td>\n",
       "      <td>22</td>\n",
       "      <td>June</td>\n",
       "      <td>Thursday</td>\n",
       "      <td>2017-06-01</td>\n",
       "    </tr>\n",
       "    <tr>\n",
       "      <th>41865</th>\n",
       "      <td>AVpgib...</td>\n",
       "      <td>naxa -...</td>\n",
       "      <td>naxa</td>\n",
       "      <td>TVs &amp; ...</td>\n",
       "      <td>sound,...</td>\n",
       "      <td>Bestbu...</td>\n",
       "      <td>58.99</td>\n",
       "      <td>58.99</td>\n",
       "      <td>No</td>\n",
       "      <td>0.00</td>\n",
       "      <td>6</td>\n",
       "      <td>1</td>\n",
       "      <td>6</td>\n",
       "      <td>2017</td>\n",
       "      <td>22</td>\n",
       "      <td>June</td>\n",
       "      <td>Thursday</td>\n",
       "      <td>2017-06-01</td>\n",
       "    </tr>\n",
       "    <tr>\n",
       "      <th>41866</th>\n",
       "      <td>AVpgib...</td>\n",
       "      <td>naxa -...</td>\n",
       "      <td>naxa</td>\n",
       "      <td>TVs &amp; ...</td>\n",
       "      <td>sound,...</td>\n",
       "      <td>Walmar...</td>\n",
       "      <td>58.49</td>\n",
       "      <td>58.49</td>\n",
       "      <td>No</td>\n",
       "      <td>0.00</td>\n",
       "      <td>1</td>\n",
       "      <td>5</td>\n",
       "      <td>3</td>\n",
       "      <td>2018</td>\n",
       "      <td>10</td>\n",
       "      <td>March</td>\n",
       "      <td>Monday</td>\n",
       "      <td>2018-03-05</td>\n",
       "    </tr>\n",
       "    <tr>\n",
       "      <th>41867</th>\n",
       "      <td>AVpgib...</td>\n",
       "      <td>naxa -...</td>\n",
       "      <td>naxa</td>\n",
       "      <td>TVs &amp; ...</td>\n",
       "      <td>sound,...</td>\n",
       "      <td>Walmar...</td>\n",
       "      <td>77.98</td>\n",
       "      <td>77.98</td>\n",
       "      <td>No</td>\n",
       "      <td>0.00</td>\n",
       "      <td>1</td>\n",
       "      <td>22</td>\n",
       "      <td>3</td>\n",
       "      <td>2016</td>\n",
       "      <td>12</td>\n",
       "      <td>March</td>\n",
       "      <td>Tuesday</td>\n",
       "      <td>2016-03-22</td>\n",
       "    </tr>\n",
       "    <tr>\n",
       "      <th>41868</th>\n",
       "      <td>AVpgib...</td>\n",
       "      <td>naxa -...</td>\n",
       "      <td>naxa</td>\n",
       "      <td>TVs &amp; ...</td>\n",
       "      <td>sound,...</td>\n",
       "      <td>Walmar...</td>\n",
       "      <td>71.95</td>\n",
       "      <td>71.95</td>\n",
       "      <td>No</td>\n",
       "      <td>0.00</td>\n",
       "      <td>1</td>\n",
       "      <td>5</td>\n",
       "      <td>12</td>\n",
       "      <td>2015</td>\n",
       "      <td>49</td>\n",
       "      <td>December</td>\n",
       "      <td>Saturday</td>\n",
       "      <td>2015-12-05</td>\n",
       "    </tr>\n",
       "  </tbody>\n",
       "</table>\n",
       "<p>41869 rows × 18 columns</p>\n",
       "</div>"
      ],
      "text/plain": [
       "              id       Name    Brand Description Category_name  ...  Year  Week  Month_Name  Day_Name       Date\n",
       "0      AVphzg...  Sanus ...    Sanus  Audio ...   mount,...     ...  2017    13      March   Thursday 2017-03-30\n",
       "1      AVphzg...  Sanus ...    Sanus  Audio ...   mount,...     ...  2017    10      March     Friday 2017-03-10\n",
       "2      AVphzg...  Sanus ...    Sanus  Audio ...   mount,...     ...  2017     9      March   Saturday 2017-03-04\n",
       "3      AVphzg...  Sanus ...    Sanus  Audio ...   mount,...     ...  2017     9      March     Friday 2017-03-03\n",
       "4      AVpgMu...  Boyton...  Boytone  Stereo...   speake...     ...  2017    50   December   Thursday 2017-12-14\n",
       "...          ...        ...      ...        ...         ...     ...   ...   ...        ...        ...        ...\n",
       "41864  AVpgib...  naxa -...     naxa  TVs & ...   sound,...     ...  2017    22       June   Thursday 2017-06-01\n",
       "41865  AVpgib...  naxa -...     naxa  TVs & ...   sound,...     ...  2017    22       June   Thursday 2017-06-01\n",
       "41866  AVpgib...  naxa -...     naxa  TVs & ...   sound,...     ...  2018    10      March     Monday 2018-03-05\n",
       "41867  AVpgib...  naxa -...     naxa  TVs & ...   sound,...     ...  2016    12      March    Tuesday 2016-03-22\n",
       "41868  AVpgib...  naxa -...     naxa  TVs & ...   sound,...     ...  2015    49   December   Saturday 2015-12-05\n",
       "\n",
       "[41869 rows x 18 columns]"
      ]
     },
     "execution_count": 24,
     "metadata": {},
     "output_type": "execute_result"
    }
   ],
   "source": [
    "dfx"
   ]
  },
  {
   "cell_type": "code",
   "execution_count": 25,
   "id": "a9869cb1-a6f4-423f-85e3-e2382a376124",
   "metadata": {},
   "outputs": [],
   "source": [
    "#Spliting data into "
   ]
  },
  {
   "cell_type": "code",
   "execution_count": 26,
   "id": "6c384b97-06b1-48b1-8117-3f0ed3a3a692",
   "metadata": {},
   "outputs": [
    {
     "data": {
      "text/html": [
       "<div>\n",
       "<style scoped>\n",
       "    .dataframe tbody tr th:only-of-type {\n",
       "        vertical-align: middle;\n",
       "    }\n",
       "\n",
       "    .dataframe tbody tr th {\n",
       "        vertical-align: top;\n",
       "    }\n",
       "\n",
       "    .dataframe thead th {\n",
       "        text-align: right;\n",
       "    }\n",
       "</style>\n",
       "<table border=\"1\" class=\"dataframe\">\n",
       "  <thead>\n",
       "    <tr style=\"text-align: right;\">\n",
       "      <th></th>\n",
       "      <th>id</th>\n",
       "      <th>Name</th>\n",
       "      <th>Brand</th>\n",
       "      <th>Description</th>\n",
       "      <th>Category_name</th>\n",
       "      <th>Merchant</th>\n",
       "      <th>Actual_price</th>\n",
       "      <th>Discount_price</th>\n",
       "      <th>isSale</th>\n",
       "      <th>Discount_per</th>\n",
       "      <th>Imp_count</th>\n",
       "      <th>Day</th>\n",
       "      <th>Month</th>\n",
       "      <th>Year</th>\n",
       "      <th>Week</th>\n",
       "      <th>Month_Name</th>\n",
       "      <th>Day_Name</th>\n",
       "      <th>Date</th>\n",
       "    </tr>\n",
       "  </thead>\n",
       "  <tbody>\n",
       "    <tr>\n",
       "      <th>0</th>\n",
       "      <td>AVphzg...</td>\n",
       "      <td>Sanus ...</td>\n",
       "      <td>Sanus</td>\n",
       "      <td>Audio ...</td>\n",
       "      <td>mount,...</td>\n",
       "      <td>Bestbu...</td>\n",
       "      <td>104.99</td>\n",
       "      <td>104.99</td>\n",
       "      <td>No</td>\n",
       "      <td>0.00</td>\n",
       "      <td>4</td>\n",
       "      <td>30</td>\n",
       "      <td>3</td>\n",
       "      <td>2017</td>\n",
       "      <td>13</td>\n",
       "      <td>March</td>\n",
       "      <td>Thursday</td>\n",
       "      <td>2017-03-30</td>\n",
       "    </tr>\n",
       "    <tr>\n",
       "      <th>1</th>\n",
       "      <td>AVphzg...</td>\n",
       "      <td>Sanus ...</td>\n",
       "      <td>Sanus</td>\n",
       "      <td>Audio ...</td>\n",
       "      <td>mount,...</td>\n",
       "      <td>Bestbu...</td>\n",
       "      <td>104.99</td>\n",
       "      <td>104.99</td>\n",
       "      <td>No</td>\n",
       "      <td>0.00</td>\n",
       "      <td>4</td>\n",
       "      <td>10</td>\n",
       "      <td>3</td>\n",
       "      <td>2017</td>\n",
       "      <td>10</td>\n",
       "      <td>March</td>\n",
       "      <td>Friday</td>\n",
       "      <td>2017-03-10</td>\n",
       "    </tr>\n",
       "    <tr>\n",
       "      <th>2</th>\n",
       "      <td>AVphzg...</td>\n",
       "      <td>Sanus ...</td>\n",
       "      <td>Sanus</td>\n",
       "      <td>Audio ...</td>\n",
       "      <td>mount,...</td>\n",
       "      <td>Bestbu...</td>\n",
       "      <td>104.99</td>\n",
       "      <td>104.99</td>\n",
       "      <td>No</td>\n",
       "      <td>0.00</td>\n",
       "      <td>4</td>\n",
       "      <td>4</td>\n",
       "      <td>3</td>\n",
       "      <td>2017</td>\n",
       "      <td>9</td>\n",
       "      <td>March</td>\n",
       "      <td>Saturday</td>\n",
       "      <td>2017-03-04</td>\n",
       "    </tr>\n",
       "    <tr>\n",
       "      <th>3</th>\n",
       "      <td>AVphzg...</td>\n",
       "      <td>Sanus ...</td>\n",
       "      <td>Sanus</td>\n",
       "      <td>Audio ...</td>\n",
       "      <td>mount,...</td>\n",
       "      <td>Bestbu...</td>\n",
       "      <td>104.99</td>\n",
       "      <td>104.99</td>\n",
       "      <td>No</td>\n",
       "      <td>0.00</td>\n",
       "      <td>4</td>\n",
       "      <td>3</td>\n",
       "      <td>3</td>\n",
       "      <td>2017</td>\n",
       "      <td>9</td>\n",
       "      <td>March</td>\n",
       "      <td>Friday</td>\n",
       "      <td>2017-03-03</td>\n",
       "    </tr>\n",
       "    <tr>\n",
       "      <th>4</th>\n",
       "      <td>AVpgMu...</td>\n",
       "      <td>Boyton...</td>\n",
       "      <td>Boytone</td>\n",
       "      <td>Stereo...</td>\n",
       "      <td>speake...</td>\n",
       "      <td>Walmar...</td>\n",
       "      <td>69.00</td>\n",
       "      <td>64.99</td>\n",
       "      <td>Yes</td>\n",
       "      <td>5.81</td>\n",
       "      <td>1</td>\n",
       "      <td>14</td>\n",
       "      <td>12</td>\n",
       "      <td>2017</td>\n",
       "      <td>50</td>\n",
       "      <td>December</td>\n",
       "      <td>Thursday</td>\n",
       "      <td>2017-12-14</td>\n",
       "    </tr>\n",
       "    <tr>\n",
       "      <th>...</th>\n",
       "      <td>...</td>\n",
       "      <td>...</td>\n",
       "      <td>...</td>\n",
       "      <td>...</td>\n",
       "      <td>...</td>\n",
       "      <td>...</td>\n",
       "      <td>...</td>\n",
       "      <td>...</td>\n",
       "      <td>...</td>\n",
       "      <td>...</td>\n",
       "      <td>...</td>\n",
       "      <td>...</td>\n",
       "      <td>...</td>\n",
       "      <td>...</td>\n",
       "      <td>...</td>\n",
       "      <td>...</td>\n",
       "      <td>...</td>\n",
       "      <td>...</td>\n",
       "    </tr>\n",
       "    <tr>\n",
       "      <th>41864</th>\n",
       "      <td>AVpgib...</td>\n",
       "      <td>naxa -...</td>\n",
       "      <td>naxa</td>\n",
       "      <td>TVs &amp; ...</td>\n",
       "      <td>sound,...</td>\n",
       "      <td>Bestbu...</td>\n",
       "      <td>58.99</td>\n",
       "      <td>58.99</td>\n",
       "      <td>No</td>\n",
       "      <td>0.00</td>\n",
       "      <td>6</td>\n",
       "      <td>1</td>\n",
       "      <td>6</td>\n",
       "      <td>2017</td>\n",
       "      <td>22</td>\n",
       "      <td>June</td>\n",
       "      <td>Thursday</td>\n",
       "      <td>2017-06-01</td>\n",
       "    </tr>\n",
       "    <tr>\n",
       "      <th>41865</th>\n",
       "      <td>AVpgib...</td>\n",
       "      <td>naxa -...</td>\n",
       "      <td>naxa</td>\n",
       "      <td>TVs &amp; ...</td>\n",
       "      <td>sound,...</td>\n",
       "      <td>Bestbu...</td>\n",
       "      <td>58.99</td>\n",
       "      <td>58.99</td>\n",
       "      <td>No</td>\n",
       "      <td>0.00</td>\n",
       "      <td>6</td>\n",
       "      <td>1</td>\n",
       "      <td>6</td>\n",
       "      <td>2017</td>\n",
       "      <td>22</td>\n",
       "      <td>June</td>\n",
       "      <td>Thursday</td>\n",
       "      <td>2017-06-01</td>\n",
       "    </tr>\n",
       "    <tr>\n",
       "      <th>41866</th>\n",
       "      <td>AVpgib...</td>\n",
       "      <td>naxa -...</td>\n",
       "      <td>naxa</td>\n",
       "      <td>TVs &amp; ...</td>\n",
       "      <td>sound,...</td>\n",
       "      <td>Walmar...</td>\n",
       "      <td>58.49</td>\n",
       "      <td>58.49</td>\n",
       "      <td>No</td>\n",
       "      <td>0.00</td>\n",
       "      <td>1</td>\n",
       "      <td>5</td>\n",
       "      <td>3</td>\n",
       "      <td>2018</td>\n",
       "      <td>10</td>\n",
       "      <td>March</td>\n",
       "      <td>Monday</td>\n",
       "      <td>2018-03-05</td>\n",
       "    </tr>\n",
       "    <tr>\n",
       "      <th>41867</th>\n",
       "      <td>AVpgib...</td>\n",
       "      <td>naxa -...</td>\n",
       "      <td>naxa</td>\n",
       "      <td>TVs &amp; ...</td>\n",
       "      <td>sound,...</td>\n",
       "      <td>Walmar...</td>\n",
       "      <td>77.98</td>\n",
       "      <td>77.98</td>\n",
       "      <td>No</td>\n",
       "      <td>0.00</td>\n",
       "      <td>1</td>\n",
       "      <td>22</td>\n",
       "      <td>3</td>\n",
       "      <td>2016</td>\n",
       "      <td>12</td>\n",
       "      <td>March</td>\n",
       "      <td>Tuesday</td>\n",
       "      <td>2016-03-22</td>\n",
       "    </tr>\n",
       "    <tr>\n",
       "      <th>41868</th>\n",
       "      <td>AVpgib...</td>\n",
       "      <td>naxa -...</td>\n",
       "      <td>naxa</td>\n",
       "      <td>TVs &amp; ...</td>\n",
       "      <td>sound,...</td>\n",
       "      <td>Walmar...</td>\n",
       "      <td>71.95</td>\n",
       "      <td>71.95</td>\n",
       "      <td>No</td>\n",
       "      <td>0.00</td>\n",
       "      <td>1</td>\n",
       "      <td>5</td>\n",
       "      <td>12</td>\n",
       "      <td>2015</td>\n",
       "      <td>49</td>\n",
       "      <td>December</td>\n",
       "      <td>Saturday</td>\n",
       "      <td>2015-12-05</td>\n",
       "    </tr>\n",
       "  </tbody>\n",
       "</table>\n",
       "<p>41869 rows × 18 columns</p>\n",
       "</div>"
      ],
      "text/plain": [
       "              id       Name    Brand Description Category_name  ...  Year  Week  Month_Name  Day_Name       Date\n",
       "0      AVphzg...  Sanus ...    Sanus  Audio ...   mount,...     ...  2017    13      March   Thursday 2017-03-30\n",
       "1      AVphzg...  Sanus ...    Sanus  Audio ...   mount,...     ...  2017    10      March     Friday 2017-03-10\n",
       "2      AVphzg...  Sanus ...    Sanus  Audio ...   mount,...     ...  2017     9      March   Saturday 2017-03-04\n",
       "3      AVphzg...  Sanus ...    Sanus  Audio ...   mount,...     ...  2017     9      March     Friday 2017-03-03\n",
       "4      AVpgMu...  Boyton...  Boytone  Stereo...   speake...     ...  2017    50   December   Thursday 2017-12-14\n",
       "...          ...        ...      ...        ...         ...     ...   ...   ...        ...        ...        ...\n",
       "41864  AVpgib...  naxa -...     naxa  TVs & ...   sound,...     ...  2017    22       June   Thursday 2017-06-01\n",
       "41865  AVpgib...  naxa -...     naxa  TVs & ...   sound,...     ...  2017    22       June   Thursday 2017-06-01\n",
       "41866  AVpgib...  naxa -...     naxa  TVs & ...   sound,...     ...  2018    10      March     Monday 2018-03-05\n",
       "41867  AVpgib...  naxa -...     naxa  TVs & ...   sound,...     ...  2016    12      March    Tuesday 2016-03-22\n",
       "41868  AVpgib...  naxa -...     naxa  TVs & ...   sound,...     ...  2015    49   December   Saturday 2015-12-05\n",
       "\n",
       "[41869 rows x 18 columns]"
      ]
     },
     "execution_count": 26,
     "metadata": {},
     "output_type": "execute_result"
    }
   ],
   "source": [
    "dfx"
   ]
  },
  {
   "cell_type": "code",
   "execution_count": 27,
   "id": "5b846b28-afd1-451d-b6be-46cd3b3acb61",
   "metadata": {},
   "outputs": [],
   "source": [
    "#Exporing the Cleaning Data as CSV\n",
    "dfx.to_csv(\"CleanedData.csv\",index=False)"
   ]
  },
  {
   "cell_type": "markdown",
   "id": "4c98adcf-015e-4f93-a957-7309ccbb7326",
   "metadata": {
    "tags": []
   },
   "source": [
    "<h2><strong>Visualization</strong></h2>"
   ]
  },
  {
   "cell_type": "code",
   "execution_count": 28,
   "id": "179e36af-58c3-4e9e-8404-37af00fd5571",
   "metadata": {},
   "outputs": [],
   "source": [
    "df = pd.read_csv(\"CleanedData.csv\")"
   ]
  },
  {
   "cell_type": "code",
   "execution_count": 29,
   "id": "0bb7f5ac-0fd8-48ed-a5f7-979f40b3dfc4",
   "metadata": {},
   "outputs": [
    {
     "data": {
      "text/html": [
       "<div>\n",
       "<style scoped>\n",
       "    .dataframe tbody tr th:only-of-type {\n",
       "        vertical-align: middle;\n",
       "    }\n",
       "\n",
       "    .dataframe tbody tr th {\n",
       "        vertical-align: top;\n",
       "    }\n",
       "\n",
       "    .dataframe thead th {\n",
       "        text-align: right;\n",
       "    }\n",
       "</style>\n",
       "<table border=\"1\" class=\"dataframe\">\n",
       "  <thead>\n",
       "    <tr style=\"text-align: right;\">\n",
       "      <th></th>\n",
       "      <th>id</th>\n",
       "      <th>Name</th>\n",
       "      <th>Brand</th>\n",
       "      <th>Description</th>\n",
       "      <th>Category_name</th>\n",
       "      <th>Merchant</th>\n",
       "      <th>Actual_price</th>\n",
       "      <th>Discount_price</th>\n",
       "      <th>isSale</th>\n",
       "      <th>Discount_per</th>\n",
       "      <th>Imp_count</th>\n",
       "      <th>Day</th>\n",
       "      <th>Month</th>\n",
       "      <th>Year</th>\n",
       "      <th>Week</th>\n",
       "      <th>Month_Name</th>\n",
       "      <th>Day_Name</th>\n",
       "      <th>Date</th>\n",
       "    </tr>\n",
       "  </thead>\n",
       "  <tbody>\n",
       "    <tr>\n",
       "      <th>0</th>\n",
       "      <td>AVphzg...</td>\n",
       "      <td>Sanus ...</td>\n",
       "      <td>Sanus</td>\n",
       "      <td>Audio ...</td>\n",
       "      <td>mount,...</td>\n",
       "      <td>Bestbu...</td>\n",
       "      <td>104.99</td>\n",
       "      <td>104.99</td>\n",
       "      <td>No</td>\n",
       "      <td>0.00</td>\n",
       "      <td>4</td>\n",
       "      <td>30</td>\n",
       "      <td>3</td>\n",
       "      <td>2017</td>\n",
       "      <td>13</td>\n",
       "      <td>March</td>\n",
       "      <td>Thursday</td>\n",
       "      <td>2017-0...</td>\n",
       "    </tr>\n",
       "    <tr>\n",
       "      <th>1</th>\n",
       "      <td>AVphzg...</td>\n",
       "      <td>Sanus ...</td>\n",
       "      <td>Sanus</td>\n",
       "      <td>Audio ...</td>\n",
       "      <td>mount,...</td>\n",
       "      <td>Bestbu...</td>\n",
       "      <td>104.99</td>\n",
       "      <td>104.99</td>\n",
       "      <td>No</td>\n",
       "      <td>0.00</td>\n",
       "      <td>4</td>\n",
       "      <td>10</td>\n",
       "      <td>3</td>\n",
       "      <td>2017</td>\n",
       "      <td>10</td>\n",
       "      <td>March</td>\n",
       "      <td>Friday</td>\n",
       "      <td>2017-0...</td>\n",
       "    </tr>\n",
       "    <tr>\n",
       "      <th>2</th>\n",
       "      <td>AVphzg...</td>\n",
       "      <td>Sanus ...</td>\n",
       "      <td>Sanus</td>\n",
       "      <td>Audio ...</td>\n",
       "      <td>mount,...</td>\n",
       "      <td>Bestbu...</td>\n",
       "      <td>104.99</td>\n",
       "      <td>104.99</td>\n",
       "      <td>No</td>\n",
       "      <td>0.00</td>\n",
       "      <td>4</td>\n",
       "      <td>4</td>\n",
       "      <td>3</td>\n",
       "      <td>2017</td>\n",
       "      <td>9</td>\n",
       "      <td>March</td>\n",
       "      <td>Saturday</td>\n",
       "      <td>2017-0...</td>\n",
       "    </tr>\n",
       "    <tr>\n",
       "      <th>3</th>\n",
       "      <td>AVphzg...</td>\n",
       "      <td>Sanus ...</td>\n",
       "      <td>Sanus</td>\n",
       "      <td>Audio ...</td>\n",
       "      <td>mount,...</td>\n",
       "      <td>Bestbu...</td>\n",
       "      <td>104.99</td>\n",
       "      <td>104.99</td>\n",
       "      <td>No</td>\n",
       "      <td>0.00</td>\n",
       "      <td>4</td>\n",
       "      <td>3</td>\n",
       "      <td>3</td>\n",
       "      <td>2017</td>\n",
       "      <td>9</td>\n",
       "      <td>March</td>\n",
       "      <td>Friday</td>\n",
       "      <td>2017-0...</td>\n",
       "    </tr>\n",
       "    <tr>\n",
       "      <th>4</th>\n",
       "      <td>AVpgMu...</td>\n",
       "      <td>Boyton...</td>\n",
       "      <td>Boytone</td>\n",
       "      <td>Stereo...</td>\n",
       "      <td>speake...</td>\n",
       "      <td>Walmar...</td>\n",
       "      <td>69.00</td>\n",
       "      <td>64.99</td>\n",
       "      <td>Yes</td>\n",
       "      <td>5.81</td>\n",
       "      <td>1</td>\n",
       "      <td>14</td>\n",
       "      <td>12</td>\n",
       "      <td>2017</td>\n",
       "      <td>50</td>\n",
       "      <td>December</td>\n",
       "      <td>Thursday</td>\n",
       "      <td>2017-1...</td>\n",
       "    </tr>\n",
       "    <tr>\n",
       "      <th>...</th>\n",
       "      <td>...</td>\n",
       "      <td>...</td>\n",
       "      <td>...</td>\n",
       "      <td>...</td>\n",
       "      <td>...</td>\n",
       "      <td>...</td>\n",
       "      <td>...</td>\n",
       "      <td>...</td>\n",
       "      <td>...</td>\n",
       "      <td>...</td>\n",
       "      <td>...</td>\n",
       "      <td>...</td>\n",
       "      <td>...</td>\n",
       "      <td>...</td>\n",
       "      <td>...</td>\n",
       "      <td>...</td>\n",
       "      <td>...</td>\n",
       "      <td>...</td>\n",
       "    </tr>\n",
       "    <tr>\n",
       "      <th>41864</th>\n",
       "      <td>AVpgib...</td>\n",
       "      <td>naxa -...</td>\n",
       "      <td>naxa</td>\n",
       "      <td>TVs &amp; ...</td>\n",
       "      <td>sound,...</td>\n",
       "      <td>Bestbu...</td>\n",
       "      <td>58.99</td>\n",
       "      <td>58.99</td>\n",
       "      <td>No</td>\n",
       "      <td>0.00</td>\n",
       "      <td>6</td>\n",
       "      <td>1</td>\n",
       "      <td>6</td>\n",
       "      <td>2017</td>\n",
       "      <td>22</td>\n",
       "      <td>June</td>\n",
       "      <td>Thursday</td>\n",
       "      <td>2017-0...</td>\n",
       "    </tr>\n",
       "    <tr>\n",
       "      <th>41865</th>\n",
       "      <td>AVpgib...</td>\n",
       "      <td>naxa -...</td>\n",
       "      <td>naxa</td>\n",
       "      <td>TVs &amp; ...</td>\n",
       "      <td>sound,...</td>\n",
       "      <td>Bestbu...</td>\n",
       "      <td>58.99</td>\n",
       "      <td>58.99</td>\n",
       "      <td>No</td>\n",
       "      <td>0.00</td>\n",
       "      <td>6</td>\n",
       "      <td>1</td>\n",
       "      <td>6</td>\n",
       "      <td>2017</td>\n",
       "      <td>22</td>\n",
       "      <td>June</td>\n",
       "      <td>Thursday</td>\n",
       "      <td>2017-0...</td>\n",
       "    </tr>\n",
       "    <tr>\n",
       "      <th>41866</th>\n",
       "      <td>AVpgib...</td>\n",
       "      <td>naxa -...</td>\n",
       "      <td>naxa</td>\n",
       "      <td>TVs &amp; ...</td>\n",
       "      <td>sound,...</td>\n",
       "      <td>Walmar...</td>\n",
       "      <td>58.49</td>\n",
       "      <td>58.49</td>\n",
       "      <td>No</td>\n",
       "      <td>0.00</td>\n",
       "      <td>1</td>\n",
       "      <td>5</td>\n",
       "      <td>3</td>\n",
       "      <td>2018</td>\n",
       "      <td>10</td>\n",
       "      <td>March</td>\n",
       "      <td>Monday</td>\n",
       "      <td>2018-0...</td>\n",
       "    </tr>\n",
       "    <tr>\n",
       "      <th>41867</th>\n",
       "      <td>AVpgib...</td>\n",
       "      <td>naxa -...</td>\n",
       "      <td>naxa</td>\n",
       "      <td>TVs &amp; ...</td>\n",
       "      <td>sound,...</td>\n",
       "      <td>Walmar...</td>\n",
       "      <td>77.98</td>\n",
       "      <td>77.98</td>\n",
       "      <td>No</td>\n",
       "      <td>0.00</td>\n",
       "      <td>1</td>\n",
       "      <td>22</td>\n",
       "      <td>3</td>\n",
       "      <td>2016</td>\n",
       "      <td>12</td>\n",
       "      <td>March</td>\n",
       "      <td>Tuesday</td>\n",
       "      <td>2016-0...</td>\n",
       "    </tr>\n",
       "    <tr>\n",
       "      <th>41868</th>\n",
       "      <td>AVpgib...</td>\n",
       "      <td>naxa -...</td>\n",
       "      <td>naxa</td>\n",
       "      <td>TVs &amp; ...</td>\n",
       "      <td>sound,...</td>\n",
       "      <td>Walmar...</td>\n",
       "      <td>71.95</td>\n",
       "      <td>71.95</td>\n",
       "      <td>No</td>\n",
       "      <td>0.00</td>\n",
       "      <td>1</td>\n",
       "      <td>5</td>\n",
       "      <td>12</td>\n",
       "      <td>2015</td>\n",
       "      <td>49</td>\n",
       "      <td>December</td>\n",
       "      <td>Saturday</td>\n",
       "      <td>2015-1...</td>\n",
       "    </tr>\n",
       "  </tbody>\n",
       "</table>\n",
       "<p>41869 rows × 18 columns</p>\n",
       "</div>"
      ],
      "text/plain": [
       "              id       Name    Brand Description Category_name  ...  Year  Week  Month_Name  Day_Name       Date\n",
       "0      AVphzg...  Sanus ...    Sanus  Audio ...   mount,...     ...  2017    13      March   Thursday  2017-0...\n",
       "1      AVphzg...  Sanus ...    Sanus  Audio ...   mount,...     ...  2017    10      March     Friday  2017-0...\n",
       "2      AVphzg...  Sanus ...    Sanus  Audio ...   mount,...     ...  2017     9      March   Saturday  2017-0...\n",
       "3      AVphzg...  Sanus ...    Sanus  Audio ...   mount,...     ...  2017     9      March     Friday  2017-0...\n",
       "4      AVpgMu...  Boyton...  Boytone  Stereo...   speake...     ...  2017    50   December   Thursday  2017-1...\n",
       "...          ...        ...      ...        ...         ...     ...   ...   ...        ...        ...        ...\n",
       "41864  AVpgib...  naxa -...     naxa  TVs & ...   sound,...     ...  2017    22       June   Thursday  2017-0...\n",
       "41865  AVpgib...  naxa -...     naxa  TVs & ...   sound,...     ...  2017    22       June   Thursday  2017-0...\n",
       "41866  AVpgib...  naxa -...     naxa  TVs & ...   sound,...     ...  2018    10      March     Monday  2018-0...\n",
       "41867  AVpgib...  naxa -...     naxa  TVs & ...   sound,...     ...  2016    12      March    Tuesday  2016-0...\n",
       "41868  AVpgib...  naxa -...     naxa  TVs & ...   sound,...     ...  2015    49   December   Saturday  2015-1...\n",
       "\n",
       "[41869 rows x 18 columns]"
      ]
     },
     "execution_count": 29,
     "metadata": {},
     "output_type": "execute_result"
    }
   ],
   "source": [
    "df"
   ]
  },
  {
   "cell_type": "code",
   "execution_count": 30,
   "id": "1426d142-17cd-489f-9496-edb8c7442870",
   "metadata": {},
   "outputs": [
    {
     "data": {
      "text/plain": [
       "0.00     39122\n",
       "16.67      187\n",
       "33.34      127\n",
       "6.98        66\n",
       "42.01       49\n",
       "         ...  \n",
       "14.37        1\n",
       "65.52        1\n",
       "12.08        1\n",
       "21.30        1\n",
       "9.48         1\n",
       "Name: Discount_per, Length: 910, dtype: int64"
      ]
     },
     "execution_count": 30,
     "metadata": {},
     "output_type": "execute_result"
    }
   ],
   "source": [
    "df[\"Discount_per\"].value_counts()"
   ]
  },
  {
   "cell_type": "code",
   "execution_count": 31,
   "id": "bd306d18-7838-4d4b-a6b2-f57c675eb173",
   "metadata": {},
   "outputs": [
    {
     "data": {
      "text/plain": [
       "Index(['id', 'Name', 'Brand', 'Description', 'Category_name', 'Merchant',\n",
       "       'Actual_price', 'Discount_price', 'isSale', 'Discount_per', 'Imp_count',\n",
       "       'Day', 'Month', 'Year', 'Week', 'Month_Name', 'Day_Name', 'Date'],\n",
       "      dtype='object')"
      ]
     },
     "execution_count": 31,
     "metadata": {},
     "output_type": "execute_result"
    }
   ],
   "source": [
    "df.columns"
   ]
  },
  {
   "cell_type": "code",
   "execution_count": 32,
   "id": "e36dc001-304b-4798-ab20-e12189157465",
   "metadata": {},
   "outputs": [
    {
     "name": "stdout",
     "output_type": "stream",
     "text": [
      "Dataframe Dimensions: (41869, 18)\n"
     ]
    }
   ],
   "source": [
    "print(\"Dataframe Dimensions:\",df.shape)"
   ]
  },
  {
   "cell_type": "code",
   "execution_count": 44,
   "id": "efe3b01a-1606-4958-a6da-58bb41f476c6",
   "metadata": {},
   "outputs": [
    {
     "data": {
      "text/plain": [
       "<seaborn.axisgrid.FacetGrid at 0x14758f541c0>"
      ]
     },
     "execution_count": 44,
     "metadata": {},
     "output_type": "execute_result"
    },
    {
     "data": {
      "image/png": "[encoded data removed]",
      "text/plain": [
       "<Figure size 500x500 with 1 Axes>"
      ]
     },
     "metadata": {},
     "output_type": "display_data"
    }
   ],
   "source": [
    "sns.displot( x=df[(df['Discount_per']>0)]['Discount_per'],kde=True)"
   ]
  },
  {
   "cell_type": "code",
   "execution_count": 33,
   "id": "e7d75821-6b65-439c-8795-d3dd3066be04",
   "metadata": {},
   "outputs": [
    {
     "data": {
      "text/plain": [
       "<AxesSubplot:xlabel='Discount_per', ylabel='Imp_count'>"
      ]
     },
     "execution_count": 33,
     "metadata": {},
     "output_type": "execute_result"
    },
    {
     "data": {
      "image/png": "[encoded data removed]",
      "text/plain": [
       "<Figure size 640x480 with 1 Axes>"
      ]
     },
     "metadata": {},
     "output_type": "display_data"
    }
   ],
   "source": [
    "dd = df[(df['Discount_per']>0)]['Discount_per']\n",
    "#Impresations vs Discount percentage\n",
    "sns.scatterplot(x=df[(df['Discount_per']>0)]['Discount_per'], y=df['Imp_count'])\n",
    "sns.rugplot(x=df['Discount_per'], y=df['Imp_count'])"
   ]
  },
  {
   "cell_type": "code",
   "execution_count": 35,
   "id": "4a4f9c15-5772-43b1-b8cd-f027d0040030",
   "metadata": {},
   "outputs": [
    {
     "data": {
      "text/plain": [
       "<AxesSubplot:xlabel='Discount_per', ylabel='Imp_count'>"
      ]
     },
     "execution_count": 35,
     "metadata": {},
     "output_type": "execute_result"
    },
    {
     "data": {
      "image/png": "[encoded data removed]",
      "text/plain": [
       "<Figure size 640x480 with 1 Axes>"
      ]
     },
     "metadata": {},
     "output_type": "display_data"
    }
   ],
   "source": [
    "dd = df[(df['Discount_per']>0)]['Discount_per']\n",
    "#Impresations vs Discount percentage\n",
    "sns.scatterplot(x=df['Discount_per'], y=df['Imp_count'])\n",
    "sns.rugplot(x=df['Discount_per'], y=df['Imp_count'])"
   ]
  },
  {
   "cell_type": "code",
   "execution_count": null,
   "id": "0bfc974e-e458-4b7a-a370-6dd96ab005a5",
   "metadata": {},
   "outputs": [],
   "source": []
  },
  {
   "cell_type": "code",
   "execution_count": 34,
   "id": "5550508b-cba1-402c-8878-0811ddfe239e",
   "metadata": {},
   "outputs": [
    {
     "data": {
      "text/plain": [
       "<AxesSubplot:xlabel='Discount_per', ylabel='Merchant'>"
      ]
     },
     "execution_count": 34,
     "metadata": {},
     "output_type": "execute_result"
    },
    {
     "data": {
      "image/png": "[encoded data removed]",
      "text/plain": [
       "<Figure size 640x480 with 1 Axes>"
      ]
     },
     "metadata": {},
     "output_type": "display_data"
    }
   ],
   "source": [
    "d1 = df.groupby([\"Merchant\"]).mean()\n",
    "c1 = d1.reset_index()\n",
    "c2 = c1.sort_values(\"Discount_per\", ascending=False)\n",
    "c3 = c2.head(10)\n",
    "sns.barplot(data=c3,x=\"Discount_per\",y=\"Merchant\")"
   ]
  },
  {
   "cell_type": "code",
   "execution_count": 106,
   "id": "f7c1c1c3-8ec7-4685-b44d-4322c07ead98",
   "metadata": {},
   "outputs": [
    {
     "data": {
      "text/plain": [
       "<AxesSubplot:xlabel='Discount_per', ylabel='Density'>"
      ]
     },
     "execution_count": 106,
     "metadata": {},
     "output_type": "execute_result"
    },
    {
     "data": {
      "image/png": "[encoded data removed]",
      "text/plain": [
       "<Figure size 640x480 with 1 Axes>"
      ]
     },
     "metadata": {},
     "output_type": "display_data"
    }
   ],
   "source": [
    "sns.distplot(df[\"Discount_per\"])"
   ]
  },
  {
   "cell_type": "code",
   "execution_count": 112,
   "id": "4509150d-1c45-48a5-8b07-6b65e29be847",
   "metadata": {},
   "outputs": [
    {
     "name": "stdout",
     "output_type": "stream",
     "text": [
      "Dataframe dimensions with impressions: (41869, 18)\n"
     ]
    },
    {
     "data": {
      "text/html": [
       "<div>\n",
       "<style scoped>\n",
       "    .dataframe tbody tr th:only-of-type {\n",
       "        vertical-align: middle;\n",
       "    }\n",
       "\n",
       "    .dataframe tbody tr th {\n",
       "        vertical-align: top;\n",
       "    }\n",
       "\n",
       "    .dataframe thead th {\n",
       "        text-align: right;\n",
       "    }\n",
       "</style>\n",
       "<table border=\"1\" class=\"dataframe\">\n",
       "  <thead>\n",
       "    <tr style=\"text-align: right;\">\n",
       "      <th></th>\n",
       "      <th>Products</th>\n",
       "      <th>Merchants</th>\n",
       "      <th>Impressions</th>\n",
       "    </tr>\n",
       "  </thead>\n",
       "  <tbody>\n",
       "    <tr>\n",
       "      <th>2017 Quantity</th>\n",
       "      <td>1224</td>\n",
       "      <td>16</td>\n",
       "      <td>41869</td>\n",
       "    </tr>\n",
       "  </tbody>\n",
       "</table>\n",
       "</div>"
      ],
      "text/plain": [
       "            Products  Merchants  Impressions\n",
       "2017 Qu...      1224         16      41869  "
      ]
     },
     "metadata": {},
     "output_type": "display_data"
    },
    {
     "name": "stdout",
     "output_type": "stream",
     "text": [
      "None\n"
     ]
    },
    {
     "data": {
      "image/png": "[encoded data removed]",
      "text/plain": [
       "<Figure size 1280x800 with 2 Axes>"
      ]
     },
     "metadata": {},
     "output_type": "display_data"
    }
   ],
   "source": [
    "print(\"Dataframe dimensions with impressions:\" ,df.shape)\n",
    "\n",
    "summary = pd.DataFrame([{'Merchants': len(df['Merchant'].unique()),    \n",
    "               'Impressions': len(df['Year']),\n",
    "               'Products': len(df['Name'].unique()),  \n",
    "              }], columns = [ 'Products','Merchants','Impressions'], \n",
    "              index = ['2017 Quantity'])\n",
    "\n",
    "print(display(summary))\n",
    "\n",
    "# Create Fig and gridspec\n",
    "fig = plt.figure(figsize=(16, 10), dpi= 80)\n",
    "grid = plt.GridSpec(4, 4, hspace=0.5, wspace=0.2)\n",
    "\n",
    "# Define the axes\n",
    "ax_main = fig.add_subplot(grid[:-1, :-1])\n",
    "ax_bottom = fig.add_subplot(grid[-1, 0:-1], xticklabels=[], yticklabels=[])\n",
    "\n",
    "sns.set_style(\"whitegrid\")\n",
    "\n",
    "#Linearplot for impressions per week during 2017\n",
    "l_plot = df.groupby('Week')['Imp_count'].count().reset_index()\n",
    "bar_subplot = df.groupby('Month')['Imp_count'].count().reset_index()\n",
    "month_ = bar_subplot['Month']\n",
    "week = l_plot['Week']\n",
    "count_imp = l_plot['Imp_count']\n",
    "count_impmon = bar_subplot['Imp_count']\n",
    "\n",
    "#\n",
    "ax_main.plot(week ,count_imp,color='red', marker='o')\n",
    "ax_main.set(title='2017 Impressions Count per Week Number and Month', xlabel='Week', ylabel='Impressions')\n",
    "for x,y in zip(week,count_imp):\n",
    "\n",
    "    label = \"{:.0f}\".format(y)\n",
    "\n",
    "    ax_main.annotate(label, # this is the text\n",
    "                     (x,y), # this is the point to label\n",
    "                     textcoords=\"offset points\", # how to position the text\n",
    "                     xytext=(0,10), # distance from text to points (x,y)\n",
    "                     ha='left') # horizontal alignment can be left, right or center\n",
    "\n",
    "\n",
    "bar_subplot.plot.bar(ax=ax_bottom, legend = False, width=1, align= 'center',edgecolor='k')\n",
    "ax_bottom.set(xlabel='Month')\n",
    "ax_bottom.set_xticklabels(np.arange(min(month_), max(month_)+1))\n",
    "ax_bottom.grid(False)\n",
    "plt.show()"
   ]
  },
  {
   "cell_type": "code",
   "execution_count": null,
   "id": "3fe9e782-319c-4eab-a691-eae6e0e8dec5",
   "metadata": {},
   "outputs": [],
   "source": []
  },
  {
   "cell_type": "code",
   "execution_count": null,
   "id": "7cdb3d65-15e1-46f1-a2cb-6681e8473898",
   "metadata": {},
   "outputs": [],
   "source": []
  },
  {
   "cell_type": "code",
   "execution_count": null,
   "id": "dda77ea8-27f0-47c8-8b0c-79e74944a45a",
   "metadata": {},
   "outputs": [],
   "source": []
  },
  {
   "cell_type": "code",
   "execution_count": null,
   "id": "ac15d2c3-e3ee-4acc-a480-1c670b9db0d8",
   "metadata": {},
   "outputs": [],
   "source": []
  },
  {
   "cell_type": "code",
   "execution_count": null,
   "id": "67983c87-523b-429f-8539-177e0616421d",
   "metadata": {},
   "outputs": [],
   "source": []
  },
  {
   "cell_type": "code",
   "execution_count": null,
   "id": "53ff66d8-9d65-4aeb-b221-e7963343cbea",
   "metadata": {},
   "outputs": [],
   "source": []
  },
  {
   "cell_type": "code",
   "execution_count": 29,
   "id": "afa15538-972b-48f4-b42e-1796379df8b1",
   "metadata": {},
   "outputs": [],
   "source": [
    "# by country -country -total sales\n",
    "# total_sales vs sale is true or not\n",
    "# at time what discount\n",
    "\n"
   ]
  },
  {
   "cell_type": "code",
   "execution_count": 30,
   "id": "91c9db9a-2c8d-46ad-82a1-b2e46bd4e39d",
   "metadata": {},
   "outputs": [],
   "source": []
  },
  {
   "cell_type": "code",
   "execution_count": 31,
   "id": "7ace25d0-af48-480a-a248-7c982b689743",
   "metadata": {},
   "outputs": [],
   "source": [
    "#computer/tv/power/speaker/"
   ]
  },
  {
   "cell_type": "code",
   "execution_count": null,
   "id": "35ac2209-4e9e-4619-95aa-bd230a0f4c2e",
   "metadata": {},
   "outputs": [],
   "source": []
  },
  {
   "cell_type": "code",
   "execution_count": null,
   "id": "99e83aae-1fa6-48a3-98de-2f47e656061c",
   "metadata": {},
   "outputs": [],
   "source": []
  },
  {
   "cell_type": "code",
   "execution_count": null,
   "id": "53e6b001-2ebc-45ca-9f34-4baa3d5a1a85",
   "metadata": {},
   "outputs": [],
   "source": []
  },
  {
   "cell_type": "code",
   "execution_count": 33,
   "id": "0899b776-ec32-451b-ae39-ae1bd1f02238",
   "metadata": {},
   "outputs": [
    {
     "data": {
      "text/plain": [
       "<AxesSubplot:xlabel='Total_sales', ylabel='Brand'>"
      ]
     },
     "execution_count": 33,
     "metadata": {},
     "output_type": "execute_result"
    },
    {
     "data": {
      "image/png": "[encoded data removed]",
      "text/plain": [
       "<Figure size 800x550 with 1 Axes>"
      ]
     },
     "metadata": {},
     "output_type": "display_data"
    }
   ],
   "source": []
  },
  {
   "cell_type": "code",
   "execution_count": 34,
   "id": "118f867b-c894-4a80-bef9-9530f5e958aa",
   "metadata": {},
   "outputs": [
    {
     "data": {
      "text/plain": [
       "<AxesSubplot:xlabel='Country', ylabel='Total_sales'>"
      ]
     },
     "execution_count": 34,
     "metadata": {},
     "output_type": "execute_result"
    },
    {
     "data": {
      "image/png": "[encoded data removed]",
      "text/plain": [
       "<Figure size 800x550 with 1 Axes>"
      ]
     },
     "metadata": {},
     "output_type": "display_data"
    }
   ],
   "source": [
    "sns.barplot(data=df,x=\"Country\",y=\"Total_sales\")"
   ]
  },
  {
   "cell_type": "code",
   "execution_count": 35,
   "id": "fc913f31-9248-4be9-9a28-5720e416e19e",
   "metadata": {},
   "outputs": [
    {
     "ename": "NameError",
     "evalue": "name 'i' is not defined",
     "output_type": "error",
     "traceback": [
      "\u001b[1;31m---------------------------------------------------------------------------\u001b[0m",
      "\u001b[1;31mNameError\u001b[0m                                 Traceback (most recent call last)",
      "\u001b[1;32m~\\AppData\\Local\\Temp\\ipykernel_9112\\2758801412.py\u001b[0m in \u001b[0;36m<module>\u001b[1;34m\u001b[0m\n\u001b[1;32m----> 1\u001b[1;33m \u001b[0msns\u001b[0m\u001b[1;33m.\u001b[0m\u001b[0mdistplot\u001b[0m\u001b[1;33m(\u001b[0m\u001b[0mx\u001b[0m\u001b[1;33m=\u001b[0m\u001b[0mdf\u001b[0m\u001b[1;33m[\u001b[0m\u001b[0mi\u001b[0m\u001b[1;33m]\u001b[0m\u001b[1;33m)\u001b[0m\u001b[1;33m\u001b[0m\u001b[1;33m\u001b[0m\u001b[0m\n\u001b[0m",
      "\u001b[1;31mNameError\u001b[0m: name 'i' is not defined"
     ]
    }
   ],
   "source": [
    "sns.distplot(x=df[i])"
   ]
  },
  {
   "cell_type": "code",
   "execution_count": null,
   "id": "e9c992e7-7ef1-4701-9a7e-b522f1cf1096",
   "metadata": {},
   "outputs": [],
   "source": [
    "df[\"Merchant\"].unique().__len__()"
   ]
  },
  {
   "cell_type": "code",
   "execution_count": null,
   "id": "9d7f3aa8-0b08-47ca-9bb4-a9754c1626b7",
   "metadata": {},
   "outputs": [],
   "source": [
    "xd = df[\"Merchant\"].unique()\n"
   ]
  },
  {
   "cell_type": "code",
   "execution_count": null,
   "id": "98b97329-b90b-4cf6-9e50-4bb19e4c5df5",
   "metadata": {},
   "outputs": [],
   "source": [
    "df[df[\"Merchant\"]==\"walmart\"].info()"
   ]
  },
  {
   "cell_type": "code",
   "execution_count": null,
   "id": "e7a0d710-2b33-47f1-b56c-141058f00b0e",
   "metadata": {},
   "outputs": [],
   "source": [
    "xd"
   ]
  },
  {
   "cell_type": "code",
   "execution_count": null,
   "id": "2e72c4dc-0026-4367-82dc-8f5e06177f19",
   "metadata": {},
   "outputs": [],
   "source": []
  }
 ],
 "metadata": {
  "kernelspec": {
   "display_name": "Python 3 (ipykernel)",
   "language": "python",
   "name": "python3"
  },
  "language_info": {
   "codemirror_mode": {
    "name": "ipython",
    "version": 3
   },
   "file_extension": ".py",
   "mimetype": "text/x-python",
   "name": "python",
   "nbconvert_exporter": "python",
   "pygments_lexer": "ipython3",
   "version": "3.9.13"
  }
 },
 "nbformat": 4,
 "nbformat_minor": 5
}
