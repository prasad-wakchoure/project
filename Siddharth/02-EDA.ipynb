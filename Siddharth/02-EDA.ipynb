{
 "cells": [
  {
   "cell_type": "markdown",
   "id": "9fb501a8",
   "metadata": {},
   "source": [
    "<h1 style=\"text-align:center\"><strong>Price Elasticity of Demand</strong></h1>"
   ]
  },
  {
   "cell_type": "markdown",
   "id": "50d5663f",
   "metadata": {},
   "source": [
    "<h2><strong>Problem Statement</strong></h2>\n",
    "\n",
    "\n",
    "<pre><code>ABC Electronics is a company that produces and sells a variety of electronics goods, including speakers, laptops, and televisions. The company is facing a major challenge in managing their inventory. Despite their efforts to reduce costs and increase sales, they have noticed a decline in sales for a particular category of products. They believe that the decline in sales is due to a change in consumer behaviour, specifically in the way that consumers are responding to changes in price. In order to address this issue, ABC Electronics has asked us to perform a data science project on the Price Elasticity of Demand for their products. This project will be developed with stakeholder\"s needs in mind and potentially deliver significant value to sales, marketing, and regulatory managers, by providing data-driven insights into consumer behaviour and product demand.</code></pre>\n"
   ]
  },
  {
   "cell_type": "code",
   "execution_count": 21,
   "id": "9b1533a3-bb3f-4c70-b74f-db5d108f2d92",
   "metadata": {},
   "outputs": [],
   "source": [
    "# IMPORTING PACKAGES\n",
    "# ------------------------------------------------------\n",
    "import pandas as pd\n",
    "import numpy as np\n",
    "import os\n",
    "import re\n",
    "import warnings\n",
    "\n",
    "# VISUALIZATION\n",
    "import seaborn as sns\n",
    "%matplotlib inline\n",
    "import matplotlib.pyplot as plt\n",
    "%matplotlib inline\n",
    "pd.options.display.max_columns = 0\n",
    "pd.options.display.max_colwidth =10\n",
    "\n",
    "# CONFIGURATIONS\n",
    "# ------------------------------------------------------\n",
    "warnings.filterwarnings(\"ignore\")"
   ]
  },
  {
   "cell_type": "code",
   "execution_count": 22,
   "id": "a505c400-6a88-4a5e-8ab7-49a142b2808b",
   "metadata": {},
   "outputs": [
    {
     "ename": "FileNotFoundError",
     "evalue": "[WinError 2] The system cannot find the file specified: 'data'",
     "output_type": "error",
     "traceback": [
      "\u001b[1;31m---------------------------------------------------------------------------\u001b[0m",
      "\u001b[1;31mFileNotFoundError\u001b[0m                         Traceback (most recent call last)",
      "\u001b[1;32m~\\AppData\\Local\\Temp\\ipykernel_15148\\1243789497.py\u001b[0m in \u001b[0;36m<module>\u001b[1;34m\u001b[0m\n\u001b[1;32m----> 1\u001b[1;33m \u001b[0mos\u001b[0m\u001b[1;33m.\u001b[0m\u001b[0mchdir\u001b[0m\u001b[1;33m(\u001b[0m\u001b[1;34m\"data\"\u001b[0m\u001b[1;33m)\u001b[0m\u001b[1;33m\u001b[0m\u001b[1;33m\u001b[0m\u001b[0m\n\u001b[0m",
      "\u001b[1;31mFileNotFoundError\u001b[0m: [WinError 2] The system cannot find the file specified: 'data'"
     ]
    }
   ],
   "source": [
    "os.chdir(\"data\")"
   ]
  },
  {
   "cell_type": "code",
   "execution_count": null,
   "id": "618e4036-bd8c-456a-8637-bce0a5a03f00",
   "metadata": {},
   "outputs": [],
   "source": [
    "df = pd.read_csv(\"CleanedData.csv\")"
   ]
  },
  {
   "cell_type": "code",
   "execution_count": null,
   "id": "dd8e998d-15b3-4be1-8744-5ed96dcf3f14",
   "metadata": {},
   "outputs": [],
   "source": [
    "df.info()"
   ]
  },
  {
   "cell_type": "code",
   "execution_count": null,
   "id": "07a5a0e0-12b5-4c98-b0c2-71b72a192d9b",
   "metadata": {},
   "outputs": [],
   "source": [
    "df.describe()"
   ]
  },
  {
   "cell_type": "code",
   "execution_count": null,
   "id": "ae5f5b4d-ab4b-482b-b769-053d0d06da0f",
   "metadata": {},
   "outputs": [],
   "source": [
    "#All Numerical Columns\n",
    "numerics = ['Actual_price', 'Discount_price', 'Discount_per',\"Imp_count\",\"Week\",\"Month\",\"Year\"]"
   ]
  },
  {
   "cell_type": "code",
   "execution_count": null,
   "id": "b2acb546-4451-4ae9-9c7f-662d24afd6b6",
   "metadata": {
    "tags": []
   },
   "outputs": [],
   "source": [
    "df.corr()"
   ]
  },
  {
   "cell_type": "code",
   "execution_count": null,
   "id": "e70f989e-42b1-4177-91b7-aeae24fcdca9",
   "metadata": {},
   "outputs": [],
   "source": [
    "sns.heatmap(df[numerics].corr(), annot=True)"
   ]
  },
  {
   "cell_type": "code",
   "execution_count": null,
   "id": "3f630870-1540-4d84-9ad8-0a3585d3257b",
   "metadata": {},
   "outputs": [],
   "source": [
    "Selected_merchant = df.loc[df.Merchant.isin(df['Merchant'].value_counts()[0:6].index)]\n",
    "plt.figure(figsize=(15,8))\n",
    "ax = sns.boxenplot(x=Selected_merchant['Merchant'],y=Selected_merchant['Actual_price'])"
   ]
  },
  {
   "cell_type": "markdown",
   "id": "462c6bdd-cd60-43df-a328-76cb864fe0c6",
   "metadata": {},
   "source": [
    "Bestbuy, Amazon sells more expensive products, while Target sells products at a lower price point based on their price."
   ]
  },
  {
   "cell_type": "code",
   "execution_count": null,
   "id": "0976d28a-5b83-4a06-8ecd-a34e3c73cdbc",
   "metadata": {},
   "outputs": [],
   "source": [
    "plt.figure(figsize=(5,5))\n",
    "ax = sns.barplot(x = df['Brand'].value_counts().values[0:10],y = df['Brand'].value_counts().index[0:10])\n",
    "# Brand Distribution"
   ]
  },
  {
   "cell_type": "markdown",
   "id": "2f439330-d51d-469b-b075-87f49d9288f1",
   "metadata": {},
   "source": [
    "The largest share of the market is held by Sony and Samsung, with Apple and other companies following behind."
   ]
  },
  {
   "cell_type": "code",
   "execution_count": null,
   "id": "ba09de93-71d3-4cff-8919-a159a14b403c",
   "metadata": {},
   "outputs": [],
   "source": [
    "Selected_brand = df.loc[df.Brand.isin(df['Brand'].value_counts()[0:10].index)]\n",
    "Selected_brand\n",
    "\n",
    "plt.figure(figsize=(15,8))\n",
    "ax = sns.boxenplot(x=Selected_brand['Brand'],y=Selected_brand['Actual_price'],scale=\"linear\")"
   ]
  },
  {
   "cell_type": "markdown",
   "id": "8db6a3e5-fb02-45bf-909d-44b1d4d6440b",
   "metadata": {},
   "source": [
    "1. LG produces mainly expensive, high-end products, while Samsung and Nikon make both simple and high-end products.\n",
    "2. Apple and Sony have a specific limit on the prices of their products."
   ]
  },
  {
   "cell_type": "code",
   "execution_count": null,
   "id": "6fc9535f-bbeb-41b9-ab60-7f80e0510f06",
   "metadata": {},
   "outputs": [],
   "source": [
    "Selected_brand_merchant = Selected_brand[Selected_brand.Merchant.isin(Selected_merchant.Merchant.unique())]\n",
    "# Selected_brand_merchant\n",
    "\n",
    "plt.figure(figsize=(15,8))\n",
    "ax = sns.boxenplot(x=Selected_brand_merchant['Brand'],y=Selected_brand_merchant['Actual_price'],hue=Selected_brand_merchant['Merchant'])"
   ]
  },
  {
   "cell_type": "markdown",
   "id": "dbd78143-9e8d-4c53-bdfb-544d7a9b22ff",
   "metadata": {},
   "source": [
    "1. Samsung, Sony, and Apple products are widely available and sold by many different vendors.\n",
    "2. LG prodcusts are mainly sold by Walmart and Amazon.\n",
    "3. Nikon on the other hand is mainly sold on Bestbuy and Ebay."
   ]
  },
  {
   "cell_type": "code",
   "execution_count": null,
   "id": "5c1c8048-5ea4-4dc1-bc22-67fce758a938",
   "metadata": {},
   "outputs": [],
   "source": [
    "ax =sns.barplot(y=Selected_brand.groupby('Brand').sum()['Imp_count'].index,x=Selected_brand.groupby('Brand').sum()['Imp_count'].values)"
   ]
  },
  {
   "cell_type": "markdown",
   "id": "9c99a325-aeb2-47db-9828-1d98bea5d8bc",
   "metadata": {},
   "source": [
    "Sony, Samsung, and Apple are among the most popular and best-selling products in the market."
   ]
  },
  {
   "cell_type": "code",
   "execution_count": null,
   "id": "e4f6f2da-a9e1-482f-a50b-56d47fd90ed1",
   "metadata": {},
   "outputs": [],
   "source": [
    "# Day Month Year Week Month_Name Day_Name Formatted_date Disc_Per Total_sale\n",
    "\n",
    "\n",
    "fig, axes = plt.subplots(2, 2, figsize=(25, 10))\n",
    "fig.suptitle('Date Distribution of Total Sales')\n",
    "axes[0,0].set_title('Day wise Impression')\n",
    "axes[0,1].set_title('Week wise Distribution')\n",
    "axes[1,0].set_title('Month wise Impression')\n",
    "axes[1,1].set_title('Year wise distribution')\n",
    "\n",
    "\n",
    "\n",
    "sns.barplot(ax=axes[0,0],x = df['Day_Name'], y= df['Imp_count'])\n",
    "sns.lineplot(ax=axes[0,1],x = df['Week'], y= df['Imp_count'])\n",
    "sns.barplot(ax=axes[1,0],x = df['Month_Name'], y= df['Imp_count'])\n",
    "sns.barplot(ax=axes[1,1],x = df['Year'], y= df['Imp_count'])"
   ]
  },
  {
   "cell_type": "markdown",
   "id": "f061794b-8394-4363-b907-4f4b25e81ecd",
   "metadata": {},
   "source": [
    "1. On Sunday people as buying maximum items\n",
    "2. In week chart, ther is spike in around 15th-17th week and at end of year.\n",
    "3. In 2017, 2018 there is increase in electornics sale market share."
   ]
  },
  {
   "cell_type": "code",
   "execution_count": null,
   "id": "2c523a1a",
   "metadata": {},
   "outputs": [],
   "source": []
  },
  {
   "cell_type": "markdown",
   "id": "87c2a2a1",
   "metadata": {},
   "source": [
    "   SINGLE VARI\n",
    "    "
   ]
  },
  {
   "cell_type": "code",
   "execution_count": null,
   "id": "069334cc",
   "metadata": {},
   "outputs": [],
   "source": [
    "sns.displot( x=df[(df['Discount_per']>0)]['Discount_per'],kde=True)"
   ]
  },
  {
   "cell_type": "code",
   "execution_count": null,
   "id": "5d6201d3",
   "metadata": {},
   "outputs": [],
   "source": [
    "dd = df[(df['Discount_per']>0)]['Discount_per']\n",
    "#Impresations vs Discount percentage\n",
    "sns.scatterplot(x=df[(df['Discount_per']>0)]['Discount_per'], y=df['Imp_count'])\n",
    "sns.rugplot(x=df['Discount_per'], y=df['Imp_count'])"
   ]
  },
  {
   "cell_type": "code",
   "execution_count": null,
   "id": "39146f73",
   "metadata": {},
   "outputs": [],
   "source": [
    "d1 = df.groupby([\"Merchant\"]).mean()\n",
    "c1 = d1.reset_index()\n",
    "c2 = c1.sort_values(\"Discount_per\", ascending=False)\n",
    "c3 = c2.head(10)\n",
    "sns.barplot(data=c3,x=\"Discount_per\",y=\"Merchant\")"
   ]
  },
  {
   "cell_type": "code",
   "execution_count": null,
   "id": "5617623c",
   "metadata": {},
   "outputs": [],
   "source": [
    "sns.distplot(df[\"Discount_per\"])"
   ]
  },
  {
   "cell_type": "code",
   "execution_count": null,
   "id": "946778fc",
   "metadata": {},
   "outputs": [],
   "source": [
    "print(\"Dataframe dimensions with impressions:\" ,df.shape)\n",
    "\n",
    "summary = pd.DataFrame([{'Merchants': len(df['Merchant'].unique()),    \n",
    "               'Impressions': len(df['Year']),\n",
    "               'Products': len(df['Name'].unique()),  \n",
    "              }], columns = [ 'Products','Merchants','Impressions'], \n",
    "              index = ['2017 Quantity'])\n",
    "\n",
    "print(display(summary))\n",
    "\n",
    "# Create Fig and gridspec\n",
    "fig = plt.figure(figsize=(16, 10), dpi= 80)\n",
    "grid = plt.GridSpec(4, 4, hspace=0.5, wspace=0.2)\n",
    "\n",
    "# Define the axes\n",
    "ax_main = fig.add_subplot(grid[:-1, :-1])\n",
    "ax_bottom = fig.add_subplot(grid[-1, 0:-1], xticklabels=[], yticklabels=[])\n",
    "\n",
    "sns.set_style(\"whitegrid\")\n",
    "\n",
    "#Linearplot for impressions per week during 2017\n",
    "l_plot = df.groupby('Week')['Imp_count'].count().reset_index()\n",
    "bar_subplot = df.groupby('Month')['Imp_count'].count().reset_index()\n",
    "month_ = bar_subplot['Month']\n",
    "week = l_plot['Week']\n",
    "count_imp = l_plot['Imp_count']\n",
    "count_impmon = bar_subplot['Imp_count']\n",
    "\n",
    "#\n",
    "ax_main.plot(week ,count_imp,color='red', marker='o')\n",
    "ax_main.set(title='2017 Impressions Count per Week Number and Month', xlabel='Week', ylabel='Impressions')\n",
    "for x,y in zip(week,count_imp):\n",
    "\n",
    "    label = \"{:.0f}\".format(y)\n",
    "\n",
    "    ax_main.annotate(label, # this is the text\n",
    "                     (x,y), # this is the point to label\n",
    "                     textcoords=\"offset points\", # how to position the text\n",
    "                     xytext=(0,10), # distance from text to points (x,y)\n",
    "                     ha='left') # horizontal alignment can be left, right or center\n",
    "\n",
    "\n",
    "bar_subplot.plot.bar(ax=ax_bottom, legend = False, width=1, align= 'center',edgecolor='k')\n",
    "ax_bottom.set(xlabel='Month')\n",
    "ax_bottom.set_xticklabels(np.arange(min(month_), max(month_)+1))\n",
    "ax_bottom.grid(False)\n",
    "plt.show()"
   ]
  },
  {
   "cell_type": "markdown",
   "id": "ddcea046",
   "metadata": {},
   "source": [
    "# by country -country -total sales\n",
    "# total_sales vs sale is true or not\n",
    "# at time what discount\n",
    "\n"
   ]
  },
  {
   "cell_type": "code",
   "execution_count": null,
   "id": "55cd4f3b",
   "metadata": {},
   "outputs": [],
   "source": []
  }
 ],
 "metadata": {
  "kernelspec": {
   "display_name": "Python 3 (ipykernel)",
   "language": "python",
   "name": "python3"
  },
  "language_info": {
   "codemirror_mode": {
    "name": "ipython",
    "version": 3
   },
   "file_extension": ".py",
   "mimetype": "text/x-python",
   "name": "python",
   "nbconvert_exporter": "python",
   "pygments_lexer": "ipython3",
   "version": "3.9.13"
  }
 },
 "nbformat": 4,
 "nbformat_minor": 5
}
