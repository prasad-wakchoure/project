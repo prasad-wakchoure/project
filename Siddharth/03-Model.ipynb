{
 "cells": [
  {
   "cell_type": "code",
   "execution_count": 11,
   "id": "3c44adf7-300d-461c-a531-4eae4ed089fc",
   "metadata": {},
   "outputs": [],
   "source": [
    "# IMPORTING PACKAGES\n",
    "# ------------------------------------------------------\n",
    "import pandas as pd\n",
    "import numpy as np\n",
    "import os\n",
    "import re\n",
    "import warnings\n",
    "\n",
    "# VISUALIZATION\n",
    "import seaborn as sns\n",
    "%matplotlib inline\n",
    "import matplotlib.pyplot as plt\n",
    "%matplotlib inline\n",
    "pd.options.display.max_columns = 0\n",
    "pd.options.display.max_colwidth =10\n",
    "\n",
    "# CONFIGURATIONS\n",
    "# ------------------------------------------------------\n",
    "warnings.filterwarnings(\"ignore\")"
   ]
  },
  {
   "cell_type": "code",
   "execution_count": 12,
   "id": "0e142ebb-0bba-46d9-910a-5c1efe3e79e2",
   "metadata": {},
   "outputs": [
    {
     "ename": "FileNotFoundError",
     "evalue": "[WinError 2] The system cannot find the file specified: 'data'",
     "output_type": "error",
     "traceback": [
      "\u001b[1;31m---------------------------------------------------------------------------\u001b[0m",
      "\u001b[1;31mFileNotFoundError\u001b[0m                         Traceback (most recent call last)",
      "\u001b[1;32m~\\AppData\\Local\\Temp\\ipykernel_5688\\1243789497.py\u001b[0m in \u001b[0;36m<module>\u001b[1;34m\u001b[0m\n\u001b[1;32m----> 1\u001b[1;33m \u001b[0mos\u001b[0m\u001b[1;33m.\u001b[0m\u001b[0mchdir\u001b[0m\u001b[1;33m(\u001b[0m\u001b[1;34m\"data\"\u001b[0m\u001b[1;33m)\u001b[0m\u001b[1;33m\u001b[0m\u001b[1;33m\u001b[0m\u001b[0m\n\u001b[0m",
      "\u001b[1;31mFileNotFoundError\u001b[0m: [WinError 2] The system cannot find the file specified: 'data'"
     ]
    }
   ],
   "source": [
    "os.chdir(\"data\")"
   ]
  },
  {
   "cell_type": "code",
   "execution_count": 13,
   "id": "37a92601-3684-4998-a726-038c0f3f29b2",
   "metadata": {},
   "outputs": [],
   "source": [
    "df = pd.read_csv(\"CleanedData.csv\")"
   ]
  },
  {
   "cell_type": "code",
   "execution_count": 14,
   "id": "f8fb24bb-a2c0-4286-b93a-2d883530c044",
   "metadata": {},
   "outputs": [
    {
     "data": {
      "text/plain": [
       "tv, television, led                2266\n",
       "drive, storage, hard               2105\n",
       "headphone, earbud, bluetooth       1801\n",
       "tv, 4k, television                 1636\n",
       "headphone                          1580\n",
       "receiver, amplifier, home          1541\n",
       "car, gps, dash                     1464\n",
       "camera, shoot, point               1386\n",
       "tablet, computer, ipad             1363\n",
       "camera, mirrorless                 1302\n",
       "laptop, computer                   1210\n",
       "speaker, portable, bluetooth       1202\n",
       "player, ipod                       1098\n",
       "sound, speaker, home               1088\n",
       "car, speaker, subwoofer            1072\n",
       "speaker, audio                     1035\n",
       "case, computer                      926\n",
       "laptop, computer, macbook           925\n",
       "speaker, bluetooth, mobile          841\n",
       "phone, cell                         789\n",
       "mount, tv, stand                    783\n",
       "camera, camcorder, action           750\n",
       "wireless, speaker, audio            696\n",
       "lens, camera                        683\n",
       "monitor, computer                   654\n",
       "networking, modem, router           636\n",
       "keyboard, computer, mouse           634\n",
       "networking, adapter, switch         627\n",
       "speaker, subwoofer, separate        614\n",
       "microphone, musical, recording      612\n",
       "charger, computer, laptop           588\n",
       "camera, bag                         553\n",
       "tv, streaming, medium               482\n",
       "card, memory, camera                478\n",
       "memory, computer, component         467\n",
       "mouse, keyboard                     460\n",
       "power, battery, cell                392\n",
       "speaker, ceiling, wall              384\n",
       "desktop                             381\n",
       "projector, presentation, screen     378\n",
       "audio, shelf, tabletop              364\n",
       "speaker, center, channel            361\n",
       "smart, home, automation             351\n",
       "turntable, cd, audio                346\n",
       "cable, tv, theater                  335\n",
       "headset, game, computer             329\n",
       "radio, portable, satellite          265\n",
       "drive, dvd, computer                250\n",
       "remote, control, tv                 231\n",
       "screen, projector, projection       229\n",
       "radar, detector, vehicle            211\n",
       "security, surveillance, camera      204\n",
       "power, computer, supply             191\n",
       "flash, camera                       142\n",
       "graphic, card, computer             130\n",
       "surge, protector, power              48\n",
       "Name: Category_name, dtype: int64"
      ]
     },
     "execution_count": 14,
     "metadata": {},
     "output_type": "execute_result"
    }
   ],
   "source": [
    "df[\"Category_name\"].value_counts()"
   ]
  },
  {
   "cell_type": "markdown",
   "id": "6dc12416-069e-4c86-b1f0-4827b340f9ac",
   "metadata": {},
   "source": [
    "Model for \"Speakers\""
   ]
  },
  {
   "cell_type": "code",
   "execution_count": 15,
   "id": "d348a703-923d-48b1-95ec-678f3467abc0",
   "metadata": {},
   "outputs": [],
   "source": [
    "dfx = df[df[\"Category_name\"].str.contains(\"speaker\",case=False)]\n",
    "dfx= dfx[dfx[\"Year\"]==2017]"
   ]
  },
  {
   "cell_type": "code",
   "execution_count": 16,
   "id": "42cb1e05-153b-463d-a7f0-8c0052fa0900",
   "metadata": {},
   "outputs": [],
   "source": [
    "dfx = dfx.reset_index(drop=True)"
   ]
  },
  {
   "cell_type": "code",
   "execution_count": 17,
   "id": "03f09e55-894f-4beb-a8ae-4239299c464f",
   "metadata": {},
   "outputs": [
    {
     "data": {
      "text/html": [
       "<div>\n",
       "<style scoped>\n",
       "    .dataframe tbody tr th:only-of-type {\n",
       "        vertical-align: middle;\n",
       "    }\n",
       "\n",
       "    .dataframe tbody tr th {\n",
       "        vertical-align: top;\n",
       "    }\n",
       "\n",
       "    .dataframe thead th {\n",
       "        text-align: right;\n",
       "    }\n",
       "</style>\n",
       "<table border=\"1\" class=\"dataframe\">\n",
       "  <thead>\n",
       "    <tr style=\"text-align: right;\">\n",
       "      <th></th>\n",
       "      <th>id</th>\n",
       "      <th>Name</th>\n",
       "      <th>Brand</th>\n",
       "      <th>Description</th>\n",
       "      <th>Category_name</th>\n",
       "      <th>Merchant</th>\n",
       "      <th>Actual_price</th>\n",
       "      <th>Discount_price</th>\n",
       "      <th>isSale</th>\n",
       "      <th>Discount_per</th>\n",
       "      <th>Imp_count</th>\n",
       "      <th>Day</th>\n",
       "      <th>Month</th>\n",
       "      <th>Year</th>\n",
       "      <th>Week</th>\n",
       "      <th>Month_Name</th>\n",
       "      <th>Day_Name</th>\n",
       "      <th>Date</th>\n",
       "    </tr>\n",
       "  </thead>\n",
       "  <tbody>\n",
       "    <tr>\n",
       "      <th>0</th>\n",
       "      <td>AVphKa...</td>\n",
       "      <td>SRS-ZR...</td>\n",
       "      <td>Sony</td>\n",
       "      <td>Stereo...</td>\n",
       "      <td>wirele...</td>\n",
       "      <td>bhphot...</td>\n",
       "      <td>198.00</td>\n",
       "      <td>198.00</td>\n",
       "      <td>No</td>\n",
       "      <td>0.0</td>\n",
       "      <td>2</td>\n",
       "      <td>28</td>\n",
       "      <td>2</td>\n",
       "      <td>2017</td>\n",
       "      <td>9</td>\n",
       "      <td>February</td>\n",
       "      <td>Tuesday</td>\n",
       "      <td>2017-0...</td>\n",
       "    </tr>\n",
       "    <tr>\n",
       "      <th>1</th>\n",
       "      <td>AVpgcA...</td>\n",
       "      <td>Sony -...</td>\n",
       "      <td>Sony</td>\n",
       "      <td>Stereo...</td>\n",
       "      <td>speake...</td>\n",
       "      <td>bhphot...</td>\n",
       "      <td>238.00</td>\n",
       "      <td>238.00</td>\n",
       "      <td>No</td>\n",
       "      <td>0.0</td>\n",
       "      <td>2</td>\n",
       "      <td>28</td>\n",
       "      <td>2</td>\n",
       "      <td>2017</td>\n",
       "      <td>9</td>\n",
       "      <td>February</td>\n",
       "      <td>Tuesday</td>\n",
       "      <td>2017-0...</td>\n",
       "    </tr>\n",
       "    <tr>\n",
       "      <th>2</th>\n",
       "      <td>AVphS0...</td>\n",
       "      <td>Sony -...</td>\n",
       "      <td>Sony</td>\n",
       "      <td>Audio ...</td>\n",
       "      <td>speake...</td>\n",
       "      <td>bhphot...</td>\n",
       "      <td>348.00</td>\n",
       "      <td>348.00</td>\n",
       "      <td>No</td>\n",
       "      <td>0.0</td>\n",
       "      <td>3</td>\n",
       "      <td>1</td>\n",
       "      <td>3</td>\n",
       "      <td>2017</td>\n",
       "      <td>9</td>\n",
       "      <td>March</td>\n",
       "      <td>Wednesday</td>\n",
       "      <td>2017-0...</td>\n",
       "    </tr>\n",
       "    <tr>\n",
       "      <th>3</th>\n",
       "      <td>AVpfHc...</td>\n",
       "      <td>SP-FS5...</td>\n",
       "      <td>Pioneer</td>\n",
       "      <td>Speake...</td>\n",
       "      <td>speake...</td>\n",
       "      <td>Bestbu...</td>\n",
       "      <td>129.99</td>\n",
       "      <td>129.99</td>\n",
       "      <td>No</td>\n",
       "      <td>0.0</td>\n",
       "      <td>13</td>\n",
       "      <td>2</td>\n",
       "      <td>3</td>\n",
       "      <td>2017</td>\n",
       "      <td>9</td>\n",
       "      <td>March</td>\n",
       "      <td>Thursday</td>\n",
       "      <td>2017-0...</td>\n",
       "    </tr>\n",
       "    <tr>\n",
       "      <th>4</th>\n",
       "      <td>AVphe2...</td>\n",
       "      <td>Refere...</td>\n",
       "      <td>Klipsch</td>\n",
       "      <td>Stereo...</td>\n",
       "      <td>speake...</td>\n",
       "      <td>Bestbu...</td>\n",
       "      <td>549.98</td>\n",
       "      <td>549.98</td>\n",
       "      <td>No</td>\n",
       "      <td>0.0</td>\n",
       "      <td>19</td>\n",
       "      <td>2</td>\n",
       "      <td>3</td>\n",
       "      <td>2017</td>\n",
       "      <td>9</td>\n",
       "      <td>March</td>\n",
       "      <td>Thursday</td>\n",
       "      <td>2017-0...</td>\n",
       "    </tr>\n",
       "    <tr>\n",
       "      <th>...</th>\n",
       "      <td>...</td>\n",
       "      <td>...</td>\n",
       "      <td>...</td>\n",
       "      <td>...</td>\n",
       "      <td>...</td>\n",
       "      <td>...</td>\n",
       "      <td>...</td>\n",
       "      <td>...</td>\n",
       "      <td>...</td>\n",
       "      <td>...</td>\n",
       "      <td>...</td>\n",
       "      <td>...</td>\n",
       "      <td>...</td>\n",
       "      <td>...</td>\n",
       "      <td>...</td>\n",
       "      <td>...</td>\n",
       "      <td>...</td>\n",
       "      <td>...</td>\n",
       "    </tr>\n",
       "    <tr>\n",
       "      <th>6156</th>\n",
       "      <td>AVpgoU...</td>\n",
       "      <td>JBL Cl...</td>\n",
       "      <td>JBL</td>\n",
       "      <td>Stereo...</td>\n",
       "      <td>speake...</td>\n",
       "      <td>kohls.com</td>\n",
       "      <td>59.99</td>\n",
       "      <td>59.99</td>\n",
       "      <td>No</td>\n",
       "      <td>0.0</td>\n",
       "      <td>46</td>\n",
       "      <td>30</td>\n",
       "      <td>12</td>\n",
       "      <td>2017</td>\n",
       "      <td>52</td>\n",
       "      <td>December</td>\n",
       "      <td>Saturday</td>\n",
       "      <td>2017-1...</td>\n",
       "    </tr>\n",
       "    <tr>\n",
       "      <th>6157</th>\n",
       "      <td>AVpgoU...</td>\n",
       "      <td>JBL Cl...</td>\n",
       "      <td>JBL</td>\n",
       "      <td>Stereo...</td>\n",
       "      <td>speake...</td>\n",
       "      <td>kohls.com</td>\n",
       "      <td>59.99</td>\n",
       "      <td>59.99</td>\n",
       "      <td>No</td>\n",
       "      <td>0.0</td>\n",
       "      <td>46</td>\n",
       "      <td>31</td>\n",
       "      <td>12</td>\n",
       "      <td>2017</td>\n",
       "      <td>52</td>\n",
       "      <td>December</td>\n",
       "      <td>Sunday</td>\n",
       "      <td>2017-1...</td>\n",
       "    </tr>\n",
       "    <tr>\n",
       "      <th>6158</th>\n",
       "      <td>AVpgoU...</td>\n",
       "      <td>JBL Cl...</td>\n",
       "      <td>JBL</td>\n",
       "      <td>Stereo...</td>\n",
       "      <td>speake...</td>\n",
       "      <td>kohls.com</td>\n",
       "      <td>59.99</td>\n",
       "      <td>59.99</td>\n",
       "      <td>No</td>\n",
       "      <td>0.0</td>\n",
       "      <td>46</td>\n",
       "      <td>31</td>\n",
       "      <td>12</td>\n",
       "      <td>2017</td>\n",
       "      <td>52</td>\n",
       "      <td>December</td>\n",
       "      <td>Sunday</td>\n",
       "      <td>2017-1...</td>\n",
       "    </tr>\n",
       "    <tr>\n",
       "      <th>6159</th>\n",
       "      <td>AVpgoU...</td>\n",
       "      <td>JBL Cl...</td>\n",
       "      <td>JBL</td>\n",
       "      <td>Stereo...</td>\n",
       "      <td>speake...</td>\n",
       "      <td>kohls.com</td>\n",
       "      <td>59.99</td>\n",
       "      <td>59.99</td>\n",
       "      <td>No</td>\n",
       "      <td>0.0</td>\n",
       "      <td>46</td>\n",
       "      <td>31</td>\n",
       "      <td>12</td>\n",
       "      <td>2017</td>\n",
       "      <td>52</td>\n",
       "      <td>December</td>\n",
       "      <td>Sunday</td>\n",
       "      <td>2017-1...</td>\n",
       "    </tr>\n",
       "    <tr>\n",
       "      <th>6160</th>\n",
       "      <td>AVpgoU...</td>\n",
       "      <td>JBL Cl...</td>\n",
       "      <td>JBL</td>\n",
       "      <td>Stereo...</td>\n",
       "      <td>speake...</td>\n",
       "      <td>kohls.com</td>\n",
       "      <td>59.99</td>\n",
       "      <td>59.99</td>\n",
       "      <td>No</td>\n",
       "      <td>0.0</td>\n",
       "      <td>46</td>\n",
       "      <td>31</td>\n",
       "      <td>12</td>\n",
       "      <td>2017</td>\n",
       "      <td>52</td>\n",
       "      <td>December</td>\n",
       "      <td>Sunday</td>\n",
       "      <td>2017-1...</td>\n",
       "    </tr>\n",
       "  </tbody>\n",
       "</table>\n",
       "<p>6161 rows × 18 columns</p>\n",
       "</div>"
      ],
      "text/plain": [
       "             id       Name    Brand  ... Month_Name   Day_Name       Date\n",
       "0     AVphKa...  SRS-ZR...     Sony  ...   February    Tuesday  2017-0...\n",
       "1     AVpgcA...  Sony -...     Sony  ...   February    Tuesday  2017-0...\n",
       "2     AVphS0...  Sony -...     Sony  ...      March  Wednesday  2017-0...\n",
       "3     AVpfHc...  SP-FS5...  Pioneer  ...      March   Thursday  2017-0...\n",
       "4     AVphe2...  Refere...  Klipsch  ...      March   Thursday  2017-0...\n",
       "...         ...        ...      ...  ...        ...        ...        ...\n",
       "6156  AVpgoU...  JBL Cl...      JBL  ...   December   Saturday  2017-1...\n",
       "6157  AVpgoU...  JBL Cl...      JBL  ...   December     Sunday  2017-1...\n",
       "6158  AVpgoU...  JBL Cl...      JBL  ...   December     Sunday  2017-1...\n",
       "6159  AVpgoU...  JBL Cl...      JBL  ...   December     Sunday  2017-1...\n",
       "6160  AVpgoU...  JBL Cl...      JBL  ...   December     Sunday  2017-1...\n",
       "\n",
       "[6161 rows x 18 columns]"
      ]
     },
     "execution_count": 17,
     "metadata": {},
     "output_type": "execute_result"
    }
   ],
   "source": [
    "dfx.sort_values(by=['Date'],ignore_index=True)"
   ]
  },
  {
   "cell_type": "code",
   "execution_count": null,
   "id": "2bb1499f-3888-4902-b47f-7ef0ec24a666",
   "metadata": {},
   "outputs": [],
   "source": []
  },
  {
   "cell_type": "code",
   "execution_count": null,
   "id": "10c4d541-2f4c-4ae4-ab1c-5fc1cf160226",
   "metadata": {},
   "outputs": [],
   "source": []
  },
  {
   "cell_type": "code",
   "execution_count": null,
   "id": "626d94f6-c4a0-4e0e-aa8e-06026c12ff43",
   "metadata": {},
   "outputs": [],
   "source": []
  },
  {
   "cell_type": "code",
   "execution_count": null,
   "id": "1aa36be9-60de-4f13-a171-fbb8319f2198",
   "metadata": {},
   "outputs": [],
   "source": []
  },
  {
   "cell_type": "code",
   "execution_count": null,
   "id": "2e72d157-be29-4b6e-95f6-6fceff05f27b",
   "metadata": {},
   "outputs": [],
   "source": []
  },
  {
   "cell_type": "code",
   "execution_count": null,
   "id": "07c56f59-9e0b-44df-af63-b69b7cb5a533",
   "metadata": {},
   "outputs": [],
   "source": []
  },
  {
   "cell_type": "code",
   "execution_count": null,
   "id": "129eb1f2-46e7-4212-9b72-bfb19ba14b72",
   "metadata": {},
   "outputs": [],
   "source": []
  },
  {
   "cell_type": "code",
   "execution_count": null,
   "id": "045a90ef-fc0b-47fa-a022-f5289c743865",
   "metadata": {},
   "outputs": [],
   "source": []
  },
  {
   "cell_type": "code",
   "execution_count": null,
   "id": "b12cdc51-e259-48cf-a540-99adc0e46ef6",
   "metadata": {},
   "outputs": [],
   "source": []
  },
  {
   "cell_type": "code",
   "execution_count": null,
   "id": "536c34cd-cb64-43e8-819a-92588f90a041",
   "metadata": {},
   "outputs": [],
   "source": []
  },
  {
   "cell_type": "code",
   "execution_count": null,
   "id": "460a8a2e-87da-4355-a611-c71bdf22b701",
   "metadata": {},
   "outputs": [],
   "source": []
  },
  {
   "cell_type": "code",
   "execution_count": null,
   "id": "b4860df7-88bc-4430-8d35-907a828bbec5",
   "metadata": {},
   "outputs": [],
   "source": []
  },
  {
   "cell_type": "code",
   "execution_count": null,
   "id": "77379193-333f-4705-967c-413086cdf122",
   "metadata": {},
   "outputs": [],
   "source": []
  },
  {
   "cell_type": "code",
   "execution_count": null,
   "id": "57ca42d3-a8c6-421d-8c53-11a9afcf7c30",
   "metadata": {},
   "outputs": [],
   "source": []
  },
  {
   "cell_type": "code",
   "execution_count": 28,
   "id": "f84a3fa2-563a-4373-bbaa-41f1b48a1c04",
   "metadata": {},
   "outputs": [
    {
     "ename": "TypeError",
     "evalue": "__init__() got an unexpected keyword argument 'n_features_to_select'",
     "output_type": "error",
     "traceback": [
      "\u001b[1;31m---------------------------------------------------------------------------\u001b[0m",
      "\u001b[1;31mTypeError\u001b[0m                                 Traceback (most recent call last)",
      "\u001b[1;32m~\\AppData\\Local\\Temp\\ipykernel_5688\\2802370514.py\u001b[0m in \u001b[0;36m<module>\u001b[1;34m\u001b[0m\n\u001b[0;32m      8\u001b[0m \u001b[0mlr\u001b[0m \u001b[1;33m=\u001b[0m \u001b[0mLogisticRegression\u001b[0m\u001b[1;33m(\u001b[0m\u001b[1;33m)\u001b[0m\u001b[1;33m\u001b[0m\u001b[1;33m\u001b[0m\u001b[0m\n\u001b[0;32m      9\u001b[0m \u001b[1;33m\u001b[0m\u001b[0m\n\u001b[1;32m---> 10\u001b[1;33m \u001b[0msfs\u001b[0m \u001b[1;33m=\u001b[0m \u001b[0mSequentialFeatureSelector\u001b[0m\u001b[1;33m(\u001b[0m\u001b[0mlr\u001b[0m\u001b[1;33m,\u001b[0m \u001b[0mn_features_to_select\u001b[0m\u001b[1;33m=\u001b[0m\u001b[1;34m\"auto\"\u001b[0m\u001b[1;33m)\u001b[0m\u001b[1;33m\u001b[0m\u001b[1;33m\u001b[0m\u001b[0m\n\u001b[0m\u001b[0;32m     11\u001b[0m \u001b[1;31m# Perform forward selection\u001b[0m\u001b[1;33m\u001b[0m\u001b[1;33m\u001b[0m\u001b[0m\n\u001b[0;32m     12\u001b[0m \u001b[0msfs\u001b[0m\u001b[1;33m.\u001b[0m\u001b[0mfit\u001b[0m\u001b[1;33m(\u001b[0m\u001b[0mX\u001b[0m\u001b[1;33m,\u001b[0m \u001b[0my\u001b[0m\u001b[1;33m)\u001b[0m\u001b[1;33m\u001b[0m\u001b[1;33m\u001b[0m\u001b[0m\n",
      "\u001b[1;31mTypeError\u001b[0m: __init__() got an unexpected keyword argument 'n_features_to_select'"
     ]
    }
   ],
   "source": [
    "from sklearn.datasets import load_iris\n",
    "from sklearn.linear_model import LogisticRegression\n",
    "from mlxtend.feature_selection import SequentialFeatureSelector\n",
    "\n",
    "X, y = load_iris(return_X_y=True)\n",
    "\n",
    "# Create a logistic regression model\n",
    "lr = LogisticRegression()\n",
    "\n",
    "sfs = SequentialFeatureSelector(lr, n_features_to_select=\"auto\")\n",
    "# Perform forward selection\n",
    "sfs.fit(X, y)\n",
    "\n",
    "SequentialFeatureSelector(estimator=lr,\n",
    "                          n_features_to_select=3)\n",
    "\n",
    "# Print the selected features\n",
    "print('Selected features:', sfs.get_support(indices=True))\n"
   ]
  },
  {
   "cell_type": "code",
   "execution_count": 19,
   "id": "ea22285f-f74c-4d37-a710-0eb0154b60b7",
   "metadata": {},
   "outputs": [],
   "source": [
    "import sklearn"
   ]
  },
  {
   "cell_type": "code",
   "execution_count": 20,
   "id": "119cbf4f-02a1-4be5-892b-385d35d47f5c",
   "metadata": {},
   "outputs": [
    {
     "data": {
      "text/plain": [
       "'1.2.1'"
      ]
     },
     "execution_count": 20,
     "metadata": {},
     "output_type": "execute_result"
    }
   ],
   "source": [
    "(sklearn.__version__)"
   ]
  },
  {
   "cell_type": "code",
   "execution_count": 42,
   "id": "77d75f94-f998-438c-ab36-a6798c0e67a6",
   "metadata": {},
   "outputs": [
    {
     "data": {
      "text/plain": [
       "(150, 3)"
      ]
     },
     "execution_count": 42,
     "metadata": {},
     "output_type": "execute_result"
    }
   ],
   "source": [
    "from sklearn.feature_selection import SequentialFeatureSelector\n",
    "from sklearn.linear_model import LogisticRegression\n",
    "from sklearn.datasets import load_iris\n",
    "X, y = load_iris(return_X_y=True)\n",
    "lr = LogisticRegression()\n",
    "sfs = SequentialFeatureSelector(lr, n_features_to_select=3)\n",
    "sfs.fit(X, y)\n",
    "SequentialFeatureSelector(estimator=LogisticRegression, n_features_to_select=3)\n",
    "sfs.get_support()\n",
    "np.array([ True, False,  True,  True])\n",
    "sfs.transform(X).shape"
   ]
  },
  {
   "cell_type": "code",
   "execution_count": 43,
   "id": "531fb1e2-b14f-4842-b52d-a34460afee1f",
   "metadata": {},
   "outputs": [
    {
     "name": "stdout",
     "output_type": "stream",
     "text": [
      "Selected features: [0 2 3]\n"
     ]
    }
   ],
   "source": [
    "print('Selected features:', sfs.get_support(indices=True))"
   ]
  },
  {
   "cell_type": "code",
   "execution_count": null,
   "id": "a7ab23cd",
   "metadata": {},
   "outputs": [],
   "source": []
  },
  {
   "cell_type": "code",
   "execution_count": null,
   "id": "67898b0c",
   "metadata": {},
   "outputs": [],
   "source": []
  }
 ],
 "metadata": {
  "kernelspec": {
   "display_name": "base",
   "language": "python",
   "name": "python3"
  },
  "language_info": {
   "codemirror_mode": {
    "name": "ipython",
    "version": 3
   },
   "file_extension": ".py",
   "mimetype": "text/x-python",
   "name": "python",
   "nbconvert_exporter": "python",
   "pygments_lexer": "ipython3",
   "version": "3.9.13"
  },
  "vscode": {
   "interpreter": {
    "hash": "ad2bdc8ecc057115af97d19610ffacc2b4e99fae6737bb82f5d7fb13d2f2c186"
   }
  }
 },
 "nbformat": 4,
 "nbformat_minor": 5
}
