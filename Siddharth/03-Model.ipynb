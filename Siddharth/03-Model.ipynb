{
 "cells": [
  {
   "cell_type": "code",
   "execution_count": 137,
   "id": "3c44adf7-300d-461c-a531-4eae4ed089fc",
   "metadata": {},
   "outputs": [],
   "source": [
    "# IMPORTING PACKAGES\n",
    "# ------------------------------------------------------\n",
    "import pandas as pd\n",
    "import numpy as np\n",
    "import os\n",
    "import re\n",
    "import warnings\n",
    "\n",
    "# VISUALIZATION\n",
    "import seaborn as sns\n",
    "%matplotlib inline\n",
    "import matplotlib.pyplot as plt\n",
    "%matplotlib inline\n",
    "pd.options.display.max_columns = 0\n",
    "pd.options.display.max_colwidth =20\n",
    "\n",
    "# CONFIGURATIONS\n",
    "# ------------------------------------------------------\n",
    "warnings.filterwarnings(\"ignore\")\n",
    "\n",
    "# MODEL CONFIG\n",
    "from sklearn.linear_model import LinearRegression\n",
    "from sklearn.metrics import mean_squared_error, mean_absolute_error, r2_score\n",
    "from sklearn.model_selection import train_test_split"
   ]
  },
  {
   "cell_type": "code",
   "execution_count": 112,
   "id": "0e142ebb-0bba-46d9-910a-5c1efe3e79e2",
   "metadata": {},
   "outputs": [
    {
     "ename": "FileNotFoundError",
     "evalue": "[WinError 2] The system cannot find the file specified: 'data'",
     "output_type": "error",
     "traceback": [
      "\u001b[1;31m---------------------------------------------------------------------------\u001b[0m",
      "\u001b[1;31mFileNotFoundError\u001b[0m                         Traceback (most recent call last)",
      "\u001b[1;32m~\\AppData\\Local\\Temp\\ipykernel_3812\\1243789497.py\u001b[0m in \u001b[0;36m<module>\u001b[1;34m\u001b[0m\n\u001b[1;32m----> 1\u001b[1;33m \u001b[0mos\u001b[0m\u001b[1;33m.\u001b[0m\u001b[0mchdir\u001b[0m\u001b[1;33m(\u001b[0m\u001b[1;34m\"data\"\u001b[0m\u001b[1;33m)\u001b[0m\u001b[1;33m\u001b[0m\u001b[1;33m\u001b[0m\u001b[0m\n\u001b[0m",
      "\u001b[1;31mFileNotFoundError\u001b[0m: [WinError 2] The system cannot find the file specified: 'data'"
     ]
    }
   ],
   "source": [
    "os.chdir(\"data\")"
   ]
  },
  {
   "cell_type": "code",
   "execution_count": 113,
   "id": "37a92601-3684-4998-a726-038c0f3f29b2",
   "metadata": {},
   "outputs": [],
   "source": [
    "df = pd.read_csv(\"DatafinitiElectronicsProductsPricingData_Cleaned_dataset.csv\")"
   ]
  },
  {
   "cell_type": "code",
   "execution_count": 114,
   "id": "49b9edd1",
   "metadata": {},
   "outputs": [
    {
     "data": {
      "text/plain": [
       "Index(['id', 'Actual_price', 'Discount_price', 'Product_availability',\n",
       "       'Condition', 'Currency', 'Country', 'isSale', 'merchant', 'brand',\n",
       "       'Description', 'Category_name', 'primaryCategories', 'name',\n",
       "       'weight_in_kg', 'Impression', 'Day', 'Month', 'Year', 'Week',\n",
       "       'Month_Name', 'Day_Name', 'Formatted_date', 'Disc_Per', 'Total_sale'],\n",
       "      dtype='object')"
      ]
     },
     "execution_count": 114,
     "metadata": {},
     "output_type": "execute_result"
    }
   ],
   "source": [
    "df.columns\n"
   ]
  },
  {
   "cell_type": "code",
   "execution_count": 115,
   "id": "f8fb24bb-a2c0-4286-b93a-2d883530c044",
   "metadata": {},
   "outputs": [
    {
     "data": {
      "text/plain": [
       "drive, storage, hard               892\n",
       "tv, television, led                824\n",
       "laptop, computer                   626\n",
       "tv, 4k, television                 604\n",
       "car, gps, dash                     603\n",
       "camera, shoot, point               524\n",
       "tablet, computer, ipad             517\n",
       "camera, mirrorless                 500\n",
       "receiver, amplifier, home          471\n",
       "headphone, earbud, bluetooth       468\n",
       "headphone                          429\n",
       "laptop, computer, macbook          408\n",
       "car, speaker, subwoofer            370\n",
       "player, ipod                       363\n",
       "speaker, portable, bluetooth       327\n",
       "speaker, audio                     326\n",
       "sound, speaker, home               318\n",
       "case, computer                     316\n",
       "monitor, computer                  314\n",
       "networking, modem, router          264\n",
       "camera, camcorder, action          241\n",
       "memory, computer, component        240\n",
       "tv, streaming, medium              235\n",
       "phone, cell                        225\n",
       "keyboard, computer, mouse          224\n",
       "speaker, bluetooth, mobile         222\n",
       "mount, tv, stand                   216\n",
       "networking, adapter, switch        208\n",
       "card, memory, camera               208\n",
       "mouse, keyboard                    206\n",
       "lens, camera                       199\n",
       "desktop                            177\n",
       "camera, bag                        177\n",
       "wireless, speaker, audio           174\n",
       "projector, presentation, screen    152\n",
       "headset, game, computer            152\n",
       "power, battery, cell               141\n",
       "speaker, subwoofer, separate       133\n",
       "turntable, cd, audio               132\n",
       "microphone, musical, recording     131\n",
       "charger, computer, laptop          120\n",
       "drive, dvd, computer               109\n",
       "radar, detector, vehicle           109\n",
       "screen, projector, projection      102\n",
       "radio, portable, satellite         100\n",
       "audio, shelf, tabletop              98\n",
       "speaker, center, channel            83\n",
       "remote, control, tv                 77\n",
       "cable, tv, theater                  76\n",
       "power, computer, supply             76\n",
       "security, surveillance, camera      75\n",
       "speaker, ceiling, wall              71\n",
       "graphic, card, computer             68\n",
       "smart, home, automation             58\n",
       "flash, camera                       42\n",
       "surge, protector, power             36\n",
       "Name: Category_name, dtype: int64"
      ]
     },
     "execution_count": 115,
     "metadata": {},
     "output_type": "execute_result"
    }
   ],
   "source": [
    "df[\"Category_name\"].value_counts()"
   ]
  },
  {
   "attachments": {},
   "cell_type": "markdown",
   "id": "6dc12416-069e-4c86-b1f0-4827b340f9ac",
   "metadata": {},
   "source": [
    "## Price Elasticity for all Products."
   ]
  },
  {
   "cell_type": "code",
   "execution_count": 116,
   "id": "c26db46f",
   "metadata": {},
   "outputs": [
    {
     "data": {
      "text/plain": [
       "2017    9631\n",
       "2018    3893\n",
       "2016     566\n",
       "2015     445\n",
       "2014      22\n",
       "Name: Year, dtype: int64"
      ]
     },
     "execution_count": 116,
     "metadata": {},
     "output_type": "execute_result"
    }
   ],
   "source": [
    "df[\"Year\"].value_counts()"
   ]
  },
  {
   "cell_type": "code",
   "execution_count": 117,
   "id": "d348a703-923d-48b1-95ec-678f3467abc0",
   "metadata": {},
   "outputs": [],
   "source": [
    "#dfx = df[df[\"Category_name\"].str.contains(\"speaker\",case=False)]\n",
    "#dfx= df[(df[\"Year\"]==2017) | (df[\"Year\"]==2018)]\n",
    "dfx=df"
   ]
  },
  {
   "cell_type": "code",
   "execution_count": 118,
   "id": "42cb1e05-153b-463d-a7f0-8c0052fa0900",
   "metadata": {},
   "outputs": [],
   "source": [
    "dfx = dfx.reset_index(drop=True)"
   ]
  },
  {
   "cell_type": "code",
   "execution_count": 119,
   "id": "03f09e55-894f-4beb-a8ae-4239299c464f",
   "metadata": {},
   "outputs": [
    {
     "data": {
      "text/html": [
       "<div>\n",
       "<style scoped>\n",
       "    .dataframe tbody tr th:only-of-type {\n",
       "        vertical-align: middle;\n",
       "    }\n",
       "\n",
       "    .dataframe tbody tr th {\n",
       "        vertical-align: top;\n",
       "    }\n",
       "\n",
       "    .dataframe thead th {\n",
       "        text-align: right;\n",
       "    }\n",
       "</style>\n",
       "<table border=\"1\" class=\"dataframe\">\n",
       "  <thead>\n",
       "    <tr style=\"text-align: right;\">\n",
       "      <th></th>\n",
       "      <th>id</th>\n",
       "      <th>Actual_price</th>\n",
       "      <th>Discount_price</th>\n",
       "      <th>Product_availability</th>\n",
       "      <th>Condition</th>\n",
       "      <th>Currency</th>\n",
       "      <th>Country</th>\n",
       "      <th>isSale</th>\n",
       "      <th>merchant</th>\n",
       "      <th>brand</th>\n",
       "      <th>Description</th>\n",
       "      <th>Category_name</th>\n",
       "      <th>primaryCategories</th>\n",
       "      <th>name</th>\n",
       "      <th>weight_in_kg</th>\n",
       "      <th>Impression</th>\n",
       "      <th>Day</th>\n",
       "      <th>Month</th>\n",
       "      <th>Year</th>\n",
       "      <th>Week</th>\n",
       "      <th>Month_Name</th>\n",
       "      <th>Day_Name</th>\n",
       "      <th>Formatted_date</th>\n",
       "      <th>Disc_Per</th>\n",
       "      <th>Total_sale</th>\n",
       "    </tr>\n",
       "  </thead>\n",
       "  <tbody>\n",
       "    <tr>\n",
       "      <th>0</th>\n",
       "      <td>AVpfnLGdilAPnD_x...</td>\n",
       "      <td>29.39</td>\n",
       "      <td>29.39</td>\n",
       "      <td>Yes</td>\n",
       "      <td>NaN</td>\n",
       "      <td>USD</td>\n",
       "      <td>USA</td>\n",
       "      <td>False</td>\n",
       "      <td>Amazon.com</td>\n",
       "      <td>Sony</td>\n",
       "      <td>Used:AC Adapters...</td>\n",
       "      <td>camera, camcorde...</td>\n",
       "      <td>Electronics</td>\n",
       "      <td>Sony - Travel Ch...</td>\n",
       "      <td>0.113398</td>\n",
       "      <td>1</td>\n",
       "      <td>30</td>\n",
       "      <td>5</td>\n",
       "      <td>2014</td>\n",
       "      <td>22</td>\n",
       "      <td>May</td>\n",
       "      <td>Friday</td>\n",
       "      <td>2014-05-30</td>\n",
       "      <td>0.0</td>\n",
       "      <td>29.39</td>\n",
       "    </tr>\n",
       "    <tr>\n",
       "      <th>1</th>\n",
       "      <td>AVpfnLGdilAPnD_x...</td>\n",
       "      <td>59.99</td>\n",
       "      <td>59.99</td>\n",
       "      <td>Yes</td>\n",
       "      <td>NaN</td>\n",
       "      <td>USD</td>\n",
       "      <td>USA</td>\n",
       "      <td>False</td>\n",
       "      <td>Amazon.com</td>\n",
       "      <td>Sony</td>\n",
       "      <td>Used:AC Adapters...</td>\n",
       "      <td>camera, camcorde...</td>\n",
       "      <td>Electronics</td>\n",
       "      <td>Sony - Travel Ch...</td>\n",
       "      <td>0.113398</td>\n",
       "      <td>1</td>\n",
       "      <td>30</td>\n",
       "      <td>5</td>\n",
       "      <td>2014</td>\n",
       "      <td>22</td>\n",
       "      <td>May</td>\n",
       "      <td>Friday</td>\n",
       "      <td>2014-05-30</td>\n",
       "      <td>0.0</td>\n",
       "      <td>59.99</td>\n",
       "    </tr>\n",
       "    <tr>\n",
       "      <th>2</th>\n",
       "      <td>AVpfcuf7LJeJML43...</td>\n",
       "      <td>1048.00</td>\n",
       "      <td>1048.00</td>\n",
       "      <td>Yes</td>\n",
       "      <td>NaN</td>\n",
       "      <td>USD</td>\n",
       "      <td>USA</td>\n",
       "      <td>False</td>\n",
       "      <td>Amazon.com</td>\n",
       "      <td>Canon</td>\n",
       "      <td>Electronics,Came...</td>\n",
       "      <td>camera, mirrorless</td>\n",
       "      <td>Electronics</td>\n",
       "      <td>Canon Black EOS ...</td>\n",
       "      <td>3.143393</td>\n",
       "      <td>1</td>\n",
       "      <td>23</td>\n",
       "      <td>8</td>\n",
       "      <td>2014</td>\n",
       "      <td>34</td>\n",
       "      <td>August</td>\n",
       "      <td>Saturday</td>\n",
       "      <td>2014-08-23</td>\n",
       "      <td>0.0</td>\n",
       "      <td>1048.00</td>\n",
       "    </tr>\n",
       "    <tr>\n",
       "      <th>3</th>\n",
       "      <td>AVpgzp3F1cnluZ0-...</td>\n",
       "      <td>179.99</td>\n",
       "      <td>179.99</td>\n",
       "      <td>Yes</td>\n",
       "      <td>New</td>\n",
       "      <td>USD</td>\n",
       "      <td>USA</td>\n",
       "      <td>False</td>\n",
       "      <td>Bestbuy.com</td>\n",
       "      <td>AudioQuest</td>\n",
       "      <td>Speaker Cables,A...</td>\n",
       "      <td>cable, tv, theater</td>\n",
       "      <td>Electronics</td>\n",
       "      <td>AudioQuest - Syd...</td>\n",
       "      <td>3.265862</td>\n",
       "      <td>1</td>\n",
       "      <td>30</td>\n",
       "      <td>8</td>\n",
       "      <td>2014</td>\n",
       "      <td>35</td>\n",
       "      <td>August</td>\n",
       "      <td>Saturday</td>\n",
       "      <td>2014-08-30</td>\n",
       "      <td>0.0</td>\n",
       "      <td>179.99</td>\n",
       "    </tr>\n",
       "    <tr>\n",
       "      <th>4</th>\n",
       "      <td>AVpfqlKoilAPnD_x...</td>\n",
       "      <td>251.80</td>\n",
       "      <td>251.80</td>\n",
       "      <td>Yes</td>\n",
       "      <td>New</td>\n",
       "      <td>USD</td>\n",
       "      <td>USA</td>\n",
       "      <td>False</td>\n",
       "      <td>Bestbuy.com</td>\n",
       "      <td>VINPOWER DIGITAL...</td>\n",
       "      <td>Electronics,Comp...</td>\n",
       "      <td>drive, dvd, comp...</td>\n",
       "      <td>Electronics</td>\n",
       "      <td>ECON-S3T-DVD-BK ...</td>\n",
       "      <td>3.583377</td>\n",
       "      <td>1</td>\n",
       "      <td>31</td>\n",
       "      <td>8</td>\n",
       "      <td>2014</td>\n",
       "      <td>35</td>\n",
       "      <td>August</td>\n",
       "      <td>Sunday</td>\n",
       "      <td>2014-08-31</td>\n",
       "      <td>0.0</td>\n",
       "      <td>251.80</td>\n",
       "    </tr>\n",
       "    <tr>\n",
       "      <th>...</th>\n",
       "      <td>...</td>\n",
       "      <td>...</td>\n",
       "      <td>...</td>\n",
       "      <td>...</td>\n",
       "      <td>...</td>\n",
       "      <td>...</td>\n",
       "      <td>...</td>\n",
       "      <td>...</td>\n",
       "      <td>...</td>\n",
       "      <td>...</td>\n",
       "      <td>...</td>\n",
       "      <td>...</td>\n",
       "      <td>...</td>\n",
       "      <td>...</td>\n",
       "      <td>...</td>\n",
       "      <td>...</td>\n",
       "      <td>...</td>\n",
       "      <td>...</td>\n",
       "      <td>...</td>\n",
       "      <td>...</td>\n",
       "      <td>...</td>\n",
       "      <td>...</td>\n",
       "      <td>...</td>\n",
       "      <td>...</td>\n",
       "      <td>...</td>\n",
       "    </tr>\n",
       "    <tr>\n",
       "      <th>14552</th>\n",
       "      <td>AVpe6jFBilAPnD_x...</td>\n",
       "      <td>704.95</td>\n",
       "      <td>704.95</td>\n",
       "      <td>Special</td>\n",
       "      <td>New</td>\n",
       "      <td>USD</td>\n",
       "      <td>USA</td>\n",
       "      <td>False</td>\n",
       "      <td>bhphotovideo.com</td>\n",
       "      <td>Elite Screens</td>\n",
       "      <td>Office,Fixed Fra...</td>\n",
       "      <td>screen, projecto...</td>\n",
       "      <td>Electronics</td>\n",
       "      <td>Aeon 71.5 x 130....</td>\n",
       "      <td>14.424226</td>\n",
       "      <td>2</td>\n",
       "      <td>25</td>\n",
       "      <td>7</td>\n",
       "      <td>2018</td>\n",
       "      <td>30</td>\n",
       "      <td>July</td>\n",
       "      <td>Wednesday</td>\n",
       "      <td>2018-07-25</td>\n",
       "      <td>0.0</td>\n",
       "      <td>1409.90</td>\n",
       "    </tr>\n",
       "    <tr>\n",
       "      <th>14553</th>\n",
       "      <td>AVphtx6BilAPnD_x...</td>\n",
       "      <td>247.99</td>\n",
       "      <td>247.99</td>\n",
       "      <td>Yes</td>\n",
       "      <td>New</td>\n",
       "      <td>USD</td>\n",
       "      <td>USA</td>\n",
       "      <td>False</td>\n",
       "      <td>bhphotovideo.com</td>\n",
       "      <td>Panasonic</td>\n",
       "      <td>Cameras &amp; Photo,...</td>\n",
       "      <td>lens, camera</td>\n",
       "      <td>Electronics</td>\n",
       "      <td>Lumix G 25mm f/1...</td>\n",
       "      <td>2.000341</td>\n",
       "      <td>12</td>\n",
       "      <td>25</td>\n",
       "      <td>7</td>\n",
       "      <td>2018</td>\n",
       "      <td>30</td>\n",
       "      <td>July</td>\n",
       "      <td>Wednesday</td>\n",
       "      <td>2018-07-25</td>\n",
       "      <td>0.0</td>\n",
       "      <td>2975.88</td>\n",
       "    </tr>\n",
       "    <tr>\n",
       "      <th>14554</th>\n",
       "      <td>AV1YHuTsglJLPUi8...</td>\n",
       "      <td>896.00</td>\n",
       "      <td>896.00</td>\n",
       "      <td>Yes</td>\n",
       "      <td>New</td>\n",
       "      <td>USD</td>\n",
       "      <td>USA</td>\n",
       "      <td>False</td>\n",
       "      <td>bhphotovideo.com</td>\n",
       "      <td>Sony</td>\n",
       "      <td>Digital Cameras,...</td>\n",
       "      <td>camera, mirrorless</td>\n",
       "      <td>Electronics</td>\n",
       "      <td>Alpha a5100 Mirr...</td>\n",
       "      <td>4.526848</td>\n",
       "      <td>3</td>\n",
       "      <td>25</td>\n",
       "      <td>7</td>\n",
       "      <td>2018</td>\n",
       "      <td>30</td>\n",
       "      <td>July</td>\n",
       "      <td>Wednesday</td>\n",
       "      <td>2018-07-25</td>\n",
       "      <td>0.0</td>\n",
       "      <td>2688.00</td>\n",
       "    </tr>\n",
       "    <tr>\n",
       "      <th>14555</th>\n",
       "      <td>AVqVHMYrv8e3D1O-...</td>\n",
       "      <td>159.95</td>\n",
       "      <td>159.95</td>\n",
       "      <td>Yes</td>\n",
       "      <td>New</td>\n",
       "      <td>USD</td>\n",
       "      <td>USA</td>\n",
       "      <td>False</td>\n",
       "      <td>bhphotovideo.com</td>\n",
       "      <td>Tenba</td>\n",
       "      <td>Photography,Came...</td>\n",
       "      <td>camera, bag</td>\n",
       "      <td>Electronics</td>\n",
       "      <td>DNA 15 Slim Mess...</td>\n",
       "      <td>1.315417</td>\n",
       "      <td>4</td>\n",
       "      <td>25</td>\n",
       "      <td>7</td>\n",
       "      <td>2018</td>\n",
       "      <td>30</td>\n",
       "      <td>July</td>\n",
       "      <td>Wednesday</td>\n",
       "      <td>2018-07-25</td>\n",
       "      <td>0.0</td>\n",
       "      <td>639.80</td>\n",
       "    </tr>\n",
       "    <tr>\n",
       "      <th>14556</th>\n",
       "      <td>AWFuSchlHh53nbDR...</td>\n",
       "      <td>79.99</td>\n",
       "      <td>79.99</td>\n",
       "      <td>Yes</td>\n",
       "      <td>New</td>\n",
       "      <td>USD</td>\n",
       "      <td>USA</td>\n",
       "      <td>False</td>\n",
       "      <td>bhphotovideo.com</td>\n",
       "      <td>Microsoft</td>\n",
       "      <td>Computers,Charge...</td>\n",
       "      <td>power, computer,...</td>\n",
       "      <td>Electronics</td>\n",
       "      <td>Power Supply for...</td>\n",
       "      <td>0.249476</td>\n",
       "      <td>1</td>\n",
       "      <td>25</td>\n",
       "      <td>7</td>\n",
       "      <td>2018</td>\n",
       "      <td>30</td>\n",
       "      <td>July</td>\n",
       "      <td>Wednesday</td>\n",
       "      <td>2018-07-25</td>\n",
       "      <td>0.0</td>\n",
       "      <td>79.99</td>\n",
       "    </tr>\n",
       "  </tbody>\n",
       "</table>\n",
       "<p>14557 rows × 25 columns</p>\n",
       "</div>"
      ],
      "text/plain": [
       "                        id  Actual_price  ...  Disc_Per Total_sale\n",
       "0      AVpfnLGdilAPnD_x...         29.39  ...       0.0      29.39\n",
       "1      AVpfnLGdilAPnD_x...         59.99  ...       0.0      59.99\n",
       "2      AVpfcuf7LJeJML43...       1048.00  ...       0.0    1048.00\n",
       "3      AVpgzp3F1cnluZ0-...        179.99  ...       0.0     179.99\n",
       "4      AVpfqlKoilAPnD_x...        251.80  ...       0.0     251.80\n",
       "...                    ...           ...  ...       ...        ...\n",
       "14552  AVpe6jFBilAPnD_x...        704.95  ...       0.0    1409.90\n",
       "14553  AVphtx6BilAPnD_x...        247.99  ...       0.0    2975.88\n",
       "14554  AV1YHuTsglJLPUi8...        896.00  ...       0.0    2688.00\n",
       "14555  AVqVHMYrv8e3D1O-...        159.95  ...       0.0     639.80\n",
       "14556  AWFuSchlHh53nbDR...         79.99  ...       0.0      79.99\n",
       "\n",
       "[14557 rows x 25 columns]"
      ]
     },
     "execution_count": 119,
     "metadata": {},
     "output_type": "execute_result"
    }
   ],
   "source": [
    "dfx.sort_values(by=['Formatted_date'],ignore_index=True)"
   ]
  },
  {
   "cell_type": "code",
   "execution_count": 120,
   "id": "f2fc49b8",
   "metadata": {},
   "outputs": [],
   "source": [
    "#Grouping data by name and Week number.\n",
    "#dfx_mod = dfx.groupby(['name', \"Month\"]).agg({'Disc_Per':'mean','Impression':'sum',\"Category_name\":lambda x: pd.Series.mode(x)[0],\"Formatted_date\":lambda x: pd.Series.mode(x)[0]}).reset_index()\n",
    "dfx_mod = dfx"
   ]
  },
  {
   "cell_type": "code",
   "execution_count": 121,
   "id": "db573f22",
   "metadata": {},
   "outputs": [],
   "source": [
    "#Rearranging\n",
    "#dfx_mod = dfx_mod[[\"name\",\"Category_name\",\"Disc_Per\",\"Impression\",\"Month\",\"Formatted_date\"]]"
   ]
  },
  {
   "cell_type": "code",
   "execution_count": 122,
   "id": "c4410993",
   "metadata": {},
   "outputs": [],
   "source": [
    "dfx_mod['Date']= pd.to_datetime(dfx_mod['Formatted_date'])"
   ]
  },
  {
   "cell_type": "code",
   "execution_count": 123,
   "id": "25ef0964",
   "metadata": {},
   "outputs": [],
   "source": [
    "\n",
    "dfx_mod.sort_values(\"Month\",ignore_index=True,inplace=True)"
   ]
  },
  {
   "cell_type": "code",
   "execution_count": 124,
   "id": "156161dc",
   "metadata": {},
   "outputs": [],
   "source": [
    "# sub_df.info()\n",
    "# converting object data type to int\n",
    "dfx_mod['Condition'] = np.where(dfx_mod['Condition'] == 'new',1,\n",
    "                      np.where(dfx_mod['Condition'] == 'refurbished',2,\n",
    "                      np.where(dfx_mod['Condition'] == 'used',0,0)))\n",
    "\n",
    "\n",
    "dfx_mod['Product_availability'] = np.where(dfx_mod['Product_availability'] == 'yes',1,\n",
    "                                 np.where(dfx_mod['Product_availability'] == 'no',0,\n",
    "                                 np.where(dfx_mod['Product_availability'] == 'other',2,2)))\n",
    "\n",
    "\n",
    "dfx_mod['Currency']= np.where(dfx_mod['Currency'] == 'USD','1',\n",
    "                np.where(dfx_mod['Currency'] == 'CAD',\"2\",\n",
    "                np.where(dfx_mod['Currency'] == 'SGD',\"3\",\n",
    "                np.where(dfx_mod['Currency'] == 'EUR',\"4\",\n",
    "                np.where(dfx_mod['Currency'] == 'GBP',\"5\",\"6\"\n",
    "                )))))"
   ]
  },
  {
   "cell_type": "code",
   "execution_count": 125,
   "id": "dc930e3b",
   "metadata": {},
   "outputs": [],
   "source": [
    "# we will drop this column\n",
    "# df['name'].value_counts()\n",
    "l1=[]\n",
    "t2=[l1.append(i) for i in dfx_mod['name'].unique() if i not in l1 ] \n",
    "t1=[dfx_mod['name'].replace({i:l1.index(i)},inplace=True) for i in dfx_mod['name'] if i in l1]"
   ]
  },
  {
   "cell_type": "code",
   "execution_count": 126,
   "id": "22583b93",
   "metadata": {},
   "outputs": [
    {
     "data": {
      "text/plain": [
       "Index(['id', 'Actual_price', 'Discount_price', 'Product_availability',\n",
       "       'Condition', 'Currency', 'Country', 'isSale', 'merchant', 'brand',\n",
       "       'Description', 'Category_name', 'primaryCategories', 'name',\n",
       "       'weight_in_kg', 'Impression', 'Day', 'Month', 'Year', 'Week',\n",
       "       'Month_Name', 'Day_Name', 'Formatted_date', 'Disc_Per', 'Total_sale',\n",
       "       'Date'],\n",
       "      dtype='object')"
      ]
     },
     "execution_count": 126,
     "metadata": {},
     "output_type": "execute_result"
    }
   ],
   "source": [
    "dfx_mod.columns"
   ]
  },
  {
   "cell_type": "code",
   "execution_count": 127,
   "id": "6be7e408",
   "metadata": {},
   "outputs": [],
   "source": [
    "dfx_mod = dfx_mod[[\"name\",\"Actual_price\",\"Product_availability\",\"Condition\",\"isSale\",\"Currency\",\"Month\",\"Discount_price\"]]\n"
   ]
  },
  {
   "attachments": {},
   "cell_type": "markdown",
   "id": "65284916",
   "metadata": {},
   "source": [
    "### FINAL DATA FRAME"
   ]
  },
  {
   "cell_type": "code",
   "execution_count": 128,
   "id": "fb886784",
   "metadata": {},
   "outputs": [
    {
     "data": {
      "text/html": [
       "<div>\n",
       "<style scoped>\n",
       "    .dataframe tbody tr th:only-of-type {\n",
       "        vertical-align: middle;\n",
       "    }\n",
       "\n",
       "    .dataframe tbody tr th {\n",
       "        vertical-align: top;\n",
       "    }\n",
       "\n",
       "    .dataframe thead th {\n",
       "        text-align: right;\n",
       "    }\n",
       "</style>\n",
       "<table border=\"1\" class=\"dataframe\">\n",
       "  <thead>\n",
       "    <tr style=\"text-align: right;\">\n",
       "      <th></th>\n",
       "      <th>name</th>\n",
       "      <th>Actual_price</th>\n",
       "      <th>Product_availability</th>\n",
       "      <th>Condition</th>\n",
       "      <th>isSale</th>\n",
       "      <th>Currency</th>\n",
       "      <th>Month</th>\n",
       "      <th>Discount_price</th>\n",
       "    </tr>\n",
       "  </thead>\n",
       "  <tbody>\n",
       "    <tr>\n",
       "      <th>0</th>\n",
       "      <td>0</td>\n",
       "      <td>699.99</td>\n",
       "      <td>2</td>\n",
       "      <td>0</td>\n",
       "      <td>False</td>\n",
       "      <td>1</td>\n",
       "      <td>1</td>\n",
       "      <td>699.99</td>\n",
       "    </tr>\n",
       "    <tr>\n",
       "      <th>1</th>\n",
       "      <td>1</td>\n",
       "      <td>6999.99</td>\n",
       "      <td>2</td>\n",
       "      <td>0</td>\n",
       "      <td>False</td>\n",
       "      <td>1</td>\n",
       "      <td>1</td>\n",
       "      <td>6999.99</td>\n",
       "    </tr>\n",
       "    <tr>\n",
       "      <th>2</th>\n",
       "      <td>2</td>\n",
       "      <td>84.99</td>\n",
       "      <td>2</td>\n",
       "      <td>0</td>\n",
       "      <td>True</td>\n",
       "      <td>1</td>\n",
       "      <td>1</td>\n",
       "      <td>78.00</td>\n",
       "    </tr>\n",
       "    <tr>\n",
       "      <th>3</th>\n",
       "      <td>3</td>\n",
       "      <td>179.99</td>\n",
       "      <td>2</td>\n",
       "      <td>0</td>\n",
       "      <td>True</td>\n",
       "      <td>1</td>\n",
       "      <td>1</td>\n",
       "      <td>143.64</td>\n",
       "    </tr>\n",
       "    <tr>\n",
       "      <th>4</th>\n",
       "      <td>3</td>\n",
       "      <td>129.99</td>\n",
       "      <td>2</td>\n",
       "      <td>0</td>\n",
       "      <td>False</td>\n",
       "      <td>1</td>\n",
       "      <td>1</td>\n",
       "      <td>129.99</td>\n",
       "    </tr>\n",
       "    <tr>\n",
       "      <th>...</th>\n",
       "      <td>...</td>\n",
       "      <td>...</td>\n",
       "      <td>...</td>\n",
       "      <td>...</td>\n",
       "      <td>...</td>\n",
       "      <td>...</td>\n",
       "      <td>...</td>\n",
       "      <td>...</td>\n",
       "    </tr>\n",
       "    <tr>\n",
       "      <th>14552</th>\n",
       "      <td>647</td>\n",
       "      <td>89.99</td>\n",
       "      <td>2</td>\n",
       "      <td>0</td>\n",
       "      <td>False</td>\n",
       "      <td>1</td>\n",
       "      <td>12</td>\n",
       "      <td>89.99</td>\n",
       "    </tr>\n",
       "    <tr>\n",
       "      <th>14553</th>\n",
       "      <td>533</td>\n",
       "      <td>139.33</td>\n",
       "      <td>2</td>\n",
       "      <td>0</td>\n",
       "      <td>False</td>\n",
       "      <td>1</td>\n",
       "      <td>12</td>\n",
       "      <td>139.33</td>\n",
       "    </tr>\n",
       "    <tr>\n",
       "      <th>14554</th>\n",
       "      <td>533</td>\n",
       "      <td>124.99</td>\n",
       "      <td>2</td>\n",
       "      <td>0</td>\n",
       "      <td>False</td>\n",
       "      <td>1</td>\n",
       "      <td>12</td>\n",
       "      <td>124.99</td>\n",
       "    </tr>\n",
       "    <tr>\n",
       "      <th>14555</th>\n",
       "      <td>1124</td>\n",
       "      <td>397.99</td>\n",
       "      <td>2</td>\n",
       "      <td>0</td>\n",
       "      <td>False</td>\n",
       "      <td>1</td>\n",
       "      <td>12</td>\n",
       "      <td>397.99</td>\n",
       "    </tr>\n",
       "    <tr>\n",
       "      <th>14556</th>\n",
       "      <td>574</td>\n",
       "      <td>71.95</td>\n",
       "      <td>2</td>\n",
       "      <td>0</td>\n",
       "      <td>False</td>\n",
       "      <td>1</td>\n",
       "      <td>12</td>\n",
       "      <td>71.95</td>\n",
       "    </tr>\n",
       "  </tbody>\n",
       "</table>\n",
       "<p>14557 rows × 8 columns</p>\n",
       "</div>"
      ],
      "text/plain": [
       "       name  Actual_price  Product_availability  ...  Currency  Month Discount_price\n",
       "0         0        699.99                    2   ...         1      1         699.99\n",
       "1         1       6999.99                    2   ...         1      1        6999.99\n",
       "2         2         84.99                    2   ...         1      1          78.00\n",
       "3         3        179.99                    2   ...         1      1         143.64\n",
       "4         3        129.99                    2   ...         1      1         129.99\n",
       "...     ...           ...                  ...   ...       ...    ...            ...\n",
       "14552   647         89.99                    2   ...         1     12          89.99\n",
       "14553   533        139.33                    2   ...         1     12         139.33\n",
       "14554   533        124.99                    2   ...         1     12         124.99\n",
       "14555  1124        397.99                    2   ...         1     12         397.99\n",
       "14556   574         71.95                    2   ...         1     12          71.95\n",
       "\n",
       "[14557 rows x 8 columns]"
      ]
     },
     "execution_count": 128,
     "metadata": {},
     "output_type": "execute_result"
    }
   ],
   "source": [
    "dfx_mod"
   ]
  },
  {
   "attachments": {},
   "cell_type": "markdown",
   "id": "be3e253a",
   "metadata": {},
   "source": [
    "#### X-Values = PRICE, Actua_price, Product_availablity, condition, isSale,product_name, week_no"
   ]
  },
  {
   "cell_type": "code",
   "execution_count": 132,
   "id": "e7c8bed1",
   "metadata": {},
   "outputs": [],
   "source": [
    "# X data\n",
    "x_val = dfx_mod.drop('Discount_price', axis=1)"
   ]
  },
  {
   "attachments": {},
   "cell_type": "markdown",
   "id": "d282f6b2",
   "metadata": {},
   "source": [
    "#### Y-Values = Discount Price"
   ]
  },
  {
   "cell_type": "code",
   "execution_count": 134,
   "id": "bc042315",
   "metadata": {},
   "outputs": [],
   "source": [
    "# Y data\n",
    "y_val = dfx_mod['Discount_price']"
   ]
  },
  {
   "attachments": {},
   "cell_type": "markdown",
   "id": "e30e9d1e",
   "metadata": {},
   "source": [
    "### Train,Test Splitter"
   ]
  },
  {
   "cell_type": "code",
   "execution_count": 138,
   "id": "f96fe1dd",
   "metadata": {},
   "outputs": [],
   "source": [
    "# Split the data into training and test sets\n",
    "X_train, X_test, y_train, y_test = train_test_split(x_val, y_val, test_size=0.2, random_state=42)\n"
   ]
  },
  {
   "attachments": {},
   "cell_type": "markdown",
   "id": "cfdb1097",
   "metadata": {},
   "source": [
    "### Linera Model"
   ]
  },
  {
   "cell_type": "code",
   "execution_count": 140,
   "id": "63136fc2",
   "metadata": {},
   "outputs": [
    {
     "data": {
      "text/html": [
       "<style>#sk-container-id-1 {color: black;background-color: white;}#sk-container-id-1 pre{padding: 0;}#sk-container-id-1 div.sk-toggleable {background-color: white;}#sk-container-id-1 label.sk-toggleable__label {cursor: pointer;display: block;width: 100%;margin-bottom: 0;padding: 0.3em;box-sizing: border-box;text-align: center;}#sk-container-id-1 label.sk-toggleable__label-arrow:before {content: \"▸\";float: left;margin-right: 0.25em;color: #696969;}#sk-container-id-1 label.sk-toggleable__label-arrow:hover:before {color: black;}#sk-container-id-1 div.sk-estimator:hover label.sk-toggleable__label-arrow:before {color: black;}#sk-container-id-1 div.sk-toggleable__content {max-height: 0;max-width: 0;overflow: hidden;text-align: left;background-color: #f0f8ff;}#sk-container-id-1 div.sk-toggleable__content pre {margin: 0.2em;color: black;border-radius: 0.25em;background-color: #f0f8ff;}#sk-container-id-1 input.sk-toggleable__control:checked~div.sk-toggleable__content {max-height: 200px;max-width: 100%;overflow: auto;}#sk-container-id-1 input.sk-toggleable__control:checked~label.sk-toggleable__label-arrow:before {content: \"▾\";}#sk-container-id-1 div.sk-estimator input.sk-toggleable__control:checked~label.sk-toggleable__label {background-color: #d4ebff;}#sk-container-id-1 div.sk-label input.sk-toggleable__control:checked~label.sk-toggleable__label {background-color: #d4ebff;}#sk-container-id-1 input.sk-hidden--visually {border: 0;clip: rect(1px 1px 1px 1px);clip: rect(1px, 1px, 1px, 1px);height: 1px;margin: -1px;overflow: hidden;padding: 0;position: absolute;width: 1px;}#sk-container-id-1 div.sk-estimator {font-family: monospace;background-color: #f0f8ff;border: 1px dotted black;border-radius: 0.25em;box-sizing: border-box;margin-bottom: 0.5em;}#sk-container-id-1 div.sk-estimator:hover {background-color: #d4ebff;}#sk-container-id-1 div.sk-parallel-item::after {content: \"\";width: 100%;border-bottom: 1px solid gray;flex-grow: 1;}#sk-container-id-1 div.sk-label:hover label.sk-toggleable__label {background-color: #d4ebff;}#sk-container-id-1 div.sk-serial::before {content: \"\";position: absolute;border-left: 1px solid gray;box-sizing: border-box;top: 0;bottom: 0;left: 50%;z-index: 0;}#sk-container-id-1 div.sk-serial {display: flex;flex-direction: column;align-items: center;background-color: white;padding-right: 0.2em;padding-left: 0.2em;position: relative;}#sk-container-id-1 div.sk-item {position: relative;z-index: 1;}#sk-container-id-1 div.sk-parallel {display: flex;align-items: stretch;justify-content: center;background-color: white;position: relative;}#sk-container-id-1 div.sk-item::before, #sk-container-id-1 div.sk-parallel-item::before {content: \"\";position: absolute;border-left: 1px solid gray;box-sizing: border-box;top: 0;bottom: 0;left: 50%;z-index: -1;}#sk-container-id-1 div.sk-parallel-item {display: flex;flex-direction: column;z-index: 1;position: relative;background-color: white;}#sk-container-id-1 div.sk-parallel-item:first-child::after {align-self: flex-end;width: 50%;}#sk-container-id-1 div.sk-parallel-item:last-child::after {align-self: flex-start;width: 50%;}#sk-container-id-1 div.sk-parallel-item:only-child::after {width: 0;}#sk-container-id-1 div.sk-dashed-wrapped {border: 1px dashed gray;margin: 0 0.4em 0.5em 0.4em;box-sizing: border-box;padding-bottom: 0.4em;background-color: white;}#sk-container-id-1 div.sk-label label {font-family: monospace;font-weight: bold;display: inline-block;line-height: 1.2em;}#sk-container-id-1 div.sk-label-container {text-align: center;}#sk-container-id-1 div.sk-container {/* jupyter's `normalize.less` sets `[hidden] { display: none; }` but bootstrap.min.css set `[hidden] { display: none !important; }` so we also need the `!important` here to be able to override the default hidden behavior on the sphinx rendered scikit-learn.org. See: https://github.com/scikit-learn/scikit-learn/issues/21755 */display: inline-block !important;position: relative;}#sk-container-id-1 div.sk-text-repr-fallback {display: none;}</style><div id=\"sk-container-id-1\" class=\"sk-top-container\"><div class=\"sk-text-repr-fallback\"><pre>LinearRegression()</pre><b>In a Jupyter environment, please rerun this cell to show the HTML representation or trust the notebook. <br />On GitHub, the HTML representation is unable to render, please try loading this page with nbviewer.org.</b></div><div class=\"sk-container\" hidden><div class=\"sk-item\"><div class=\"sk-estimator sk-toggleable\"><input class=\"sk-toggleable__control sk-hidden--visually\" id=\"sk-estimator-id-1\" type=\"checkbox\" checked><label for=\"sk-estimator-id-1\" class=\"sk-toggleable__label sk-toggleable__label-arrow\">LinearRegression</label><div class=\"sk-toggleable__content\"><pre>LinearRegression()</pre></div></div></div></div></div>"
      ],
      "text/plain": [
       "LinearRegression()"
      ]
     },
     "execution_count": 140,
     "metadata": {},
     "output_type": "execute_result"
    }
   ],
   "source": [
    "# Train the linear regression model\n",
    "model = LinearRegression()\n",
    "model.fit(X_train, y_train)"
   ]
  },
  {
   "cell_type": "code",
   "execution_count": 237,
   "id": "4c195017",
   "metadata": {},
   "outputs": [
    {
     "data": {
      "text/html": [
       "<div>\n",
       "<style scoped>\n",
       "    .dataframe tbody tr th:only-of-type {\n",
       "        vertical-align: middle;\n",
       "    }\n",
       "\n",
       "    .dataframe tbody tr th {\n",
       "        vertical-align: top;\n",
       "    }\n",
       "\n",
       "    .dataframe thead th {\n",
       "        text-align: right;\n",
       "    }\n",
       "</style>\n",
       "<table border=\"1\" class=\"dataframe\">\n",
       "  <thead>\n",
       "    <tr style=\"text-align: right;\">\n",
       "      <th></th>\n",
       "      <th>coeff</th>\n",
       "      <th>name</th>\n",
       "    </tr>\n",
       "  </thead>\n",
       "  <tbody>\n",
       "    <tr>\n",
       "      <th>0</th>\n",
       "      <td>9.652770e-03</td>\n",
       "      <td>name</td>\n",
       "    </tr>\n",
       "    <tr>\n",
       "      <th>1</th>\n",
       "      <td>9.591594e-01</td>\n",
       "      <td>Actual_price</td>\n",
       "    </tr>\n",
       "    <tr>\n",
       "      <th>2</th>\n",
       "      <td>-1.456613e-13</td>\n",
       "      <td>Product_availabi...</td>\n",
       "    </tr>\n",
       "    <tr>\n",
       "      <th>3</th>\n",
       "      <td>1.136868e-13</td>\n",
       "      <td>Condition</td>\n",
       "    </tr>\n",
       "    <tr>\n",
       "      <th>4</th>\n",
       "      <td>-2.494498e+02</td>\n",
       "      <td>isSale</td>\n",
       "    </tr>\n",
       "    <tr>\n",
       "      <th>5</th>\n",
       "      <td>-4.026665e+00</td>\n",
       "      <td>Currency</td>\n",
       "    </tr>\n",
       "    <tr>\n",
       "      <th>6</th>\n",
       "      <td>-5.428476e-01</td>\n",
       "      <td>Month</td>\n",
       "    </tr>\n",
       "  </tbody>\n",
       "</table>\n",
       "</div>"
      ],
      "text/plain": [
       "          coeff                 name\n",
       "0  9.652770e-03                 name\n",
       "1  9.591594e-01         Actual_price\n",
       "2 -1.456613e-13  Product_availabi...\n",
       "3  1.136868e-13            Condition\n",
       "4 -2.494498e+02               isSale\n",
       "5 -4.026665e+00             Currency\n",
       "6 -5.428476e-01                Month"
      ]
     },
     "execution_count": 237,
     "metadata": {},
     "output_type": "execute_result"
    }
   ],
   "source": [
    "ls = x_val.columns\n",
    "coeff = pd.DataFrame(model.coef_, columns={\"coeff\"})\n",
    "coeff[\"name\"]= ls\n",
    "coeff\n"
   ]
  },
  {
   "attachments": {},
   "cell_type": "markdown",
   "id": "1c72de3a",
   "metadata": {},
   "source": [
    "### Evaluation"
   ]
  },
  {
   "cell_type": "code",
   "execution_count": 143,
   "id": "131269af",
   "metadata": {},
   "outputs": [],
   "source": [
    "def evaluater(eval_type,mod,xval,yval):\n",
    "    y_pred = mod.predict(xval)\n",
    "\n",
    "    print(eval_type.center(70,\"*\"))\n",
    "    mae = mean_absolute_error(yval, y_pred)\n",
    "    mse = mean_squared_error(yval, y_pred)\n",
    "    rmse = np.sqrt(mse)\n",
    "    r2 = r2_score(yval, y_pred)\n",
    "\n",
    "    # Print the evaluation metrics\n",
    "    print('Mean absolute error (MAE): {:.2f}'.format(mae))\n",
    "    print('Mean squared error (MSE): {:.2f}'.format(mse))\n",
    "    print('Root mean squared error (RMSE): {:.2f}'.format(mae))\n",
    "    print('R-squared (R2) score: {:.2f}'.format(r2)) \n",
    "    print(\"*\"*70)"
   ]
  },
  {
   "cell_type": "code",
   "execution_count": 144,
   "id": "10c0a432",
   "metadata": {},
   "outputs": [
    {
     "name": "stdout",
     "output_type": "stream",
     "text": [
      "************************Train data evaluation*************************\n",
      "Mean absolute error (MAE): 39.52\n",
      "Mean squared error (MSE): 16107.92\n",
      "Root mean squared error (RMSE): 39.52\n",
      "R-squared (R2) score: 0.98\n",
      "**********************************************************************\n"
     ]
    }
   ],
   "source": [
    "evaluater(\"Train data evaluation\",model,X_train,y_train)"
   ]
  },
  {
   "cell_type": "code",
   "execution_count": 145,
   "id": "39e44b5e",
   "metadata": {},
   "outputs": [
    {
     "name": "stdout",
     "output_type": "stream",
     "text": [
      "*************************Test data evaluation*************************\n",
      "Mean absolute error (MAE): 44.46\n",
      "Mean squared error (MSE): 25823.42\n",
      "Root mean squared error (RMSE): 44.46\n",
      "R-squared (R2) score: 0.97\n",
      "**********************************************************************\n"
     ]
    }
   ],
   "source": [
    "evaluater(\"Test data evaluation\",model,X_test,y_test)"
   ]
  },
  {
   "cell_type": "code",
   "execution_count": null,
   "id": "f0403971",
   "metadata": {},
   "outputs": [],
   "source": []
  },
  {
   "cell_type": "code",
   "execution_count": null,
   "metadata": {},
   "outputs": [],
   "source": [
    "### Model "
   ]
  },
  {
   "cell_type": "code",
   "execution_count": null,
   "id": "c80d3f8f",
   "metadata": {},
   "outputs": [],
   "source": []
  },
  {
   "cell_type": "code",
   "execution_count": null,
   "id": "b49ad82d",
   "metadata": {},
   "outputs": [],
   "source": []
  },
  {
   "cell_type": "code",
   "execution_count": null,
   "id": "eb80a67d",
   "metadata": {},
   "outputs": [],
   "source": []
  },
  {
   "cell_type": "code",
   "execution_count": null,
   "id": "074c583f",
   "metadata": {},
   "outputs": [],
   "source": []
  },
  {
   "cell_type": "code",
   "execution_count": null,
   "id": "dbd88371",
   "metadata": {},
   "outputs": [],
   "source": []
  },
  {
   "cell_type": "code",
   "execution_count": null,
   "id": "1435de86",
   "metadata": {},
   "outputs": [],
   "source": []
  },
  {
   "attachments": {},
   "cell_type": "markdown",
   "id": "0f4365fa",
   "metadata": {},
   "source": [
    " ## Price elasticity = Change in Quanity sold / Change in the Price"
   ]
  },
  {
   "cell_type": "code",
   "execution_count": null,
   "id": "57ca42d3-a8c6-421d-8c53-11a9afcf7c30",
   "metadata": {},
   "outputs": [],
   "source": []
  },
  {
   "cell_type": "code",
   "execution_count": null,
   "id": "d73ef38b",
   "metadata": {},
   "outputs": [],
   "source": []
  },
  {
   "cell_type": "code",
   "execution_count": null,
   "metadata": {},
   "outputs": [],
   "source": []
  },
  {
   "cell_type": "code",
   "execution_count": null,
   "metadata": {},
   "outputs": [],
   "source": []
  },
  {
   "cell_type": "code",
   "execution_count": null,
   "metadata": {},
   "outputs": [],
   "source": []
  },
  {
   "cell_type": "code",
   "execution_count": null,
   "id": "af9c5b4b",
   "metadata": {},
   "outputs": [],
   "source": []
  },
  {
   "cell_type": "code",
   "execution_count": null,
   "id": "fbc1d9de",
   "metadata": {},
   "outputs": [],
   "source": []
  },
  {
   "cell_type": "code",
   "execution_count": null,
   "metadata": {},
   "outputs": [],
   "source": []
  },
  {
   "cell_type": "code",
   "execution_count": null,
   "id": "6d63b4f0",
   "metadata": {},
   "outputs": [],
   "source": []
  },
  {
   "cell_type": "code",
   "execution_count": 139,
   "id": "22f316f4",
   "metadata": {},
   "outputs": [],
   "source": [
    "\n"
   ]
  },
  {
   "cell_type": "code",
   "execution_count": null,
   "id": "25848052",
   "metadata": {},
   "outputs": [],
   "source": []
  },
  {
   "cell_type": "code",
   "execution_count": null,
   "id": "ecc4edc8",
   "metadata": {},
   "outputs": [],
   "source": []
  },
  {
   "attachments": {},
   "cell_type": "markdown",
   "id": "ae716b56",
   "metadata": {},
   "source": [
    "The negative sign in the formula for price elasticity of demand (PED) is used to indicate the inverse relationship between the price of a good or service and the quantity demanded by consumers. In other words, as the price of a good or service increases, the quantity demanded by consumers decreases, and vice versa.\n",
    "\n",
    "The PED formula is:\n",
    "\n",
    "PED = (% change in quantity demanded / % change in price)\n",
    "\n",
    "By convention, the price elasticity of demand is expressed as a negative number, as the percentage change in quantity demanded and price usually have opposite signs. For example, if the price of a good increases by 10%, the quantity demanded may decrease by 5%, resulting in a PED of -0.5. The negative sign indicates that the demand for the good is responsive to changes in price and that the quantity demanded decreases as the price increases.\n",
    "\n",
    "However, in some cases, the demand for a good may be inelastic, which means that the PED is less than 1. In this case, the percentage change in quantity demanded may be smaller than the percentage change in price, resulting in a positive PED value. But, in general, the negative sign is used to indicate the inverse relationship between price and quantity demanded."
   ]
  }
 ],
 "metadata": {
  "kernelspec": {
   "display_name": "base",
   "language": "python",
   "name": "python3"
  },
  "language_info": {
   "codemirror_mode": {
    "name": "ipython",
    "version": 3
   },
   "file_extension": ".py",
   "mimetype": "text/x-python",
   "name": "python",
   "nbconvert_exporter": "python",
   "pygments_lexer": "ipython3",
   "version": "3.9.13"
  },
  "vscode": {
   "interpreter": {
    "hash": "ad2bdc8ecc057115af97d19610ffacc2b4e99fae6737bb82f5d7fb13d2f2c186"
   }
  }
 },
 "nbformat": 4,
 "nbformat_minor": 5
}
